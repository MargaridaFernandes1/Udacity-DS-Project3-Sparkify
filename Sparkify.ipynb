{
 "cells": [
  {
   "cell_type": "markdown",
   "metadata": {},
   "source": [
    "# 1. Project Definition <a id='definition'></a>\n",
    "\n",
    "\n",
    "#### Introduction\n",
    "\n",
    "\n",
    "#### Problem Definition\n"
   ]
  },
  {
   "cell_type": "markdown",
   "metadata": {},
   "source": [
    "# 2. Importing packages and setup\n",
    "\n",
    "Importing libraries and setting up spark session"
   ]
  },
  {
   "cell_type": "code",
   "execution_count": 1,
   "metadata": {},
   "outputs": [],
   "source": [
    "# import libraries\n",
    "import pandas as pd\n",
    "import numpy as np\n",
    "import seaborn as sns\n",
    "from matplotlib import pyplot as plt\n",
    "import datetime\n",
    "%matplotlib inline\n",
    "\n",
    "# pyspark\n",
    "from pyspark import SparkConf\n",
    "from pyspark.sql import SparkSession, Window\n",
    "from pyspark.sql.functions import udf, col, countDistinct, sum, avg, when, desc, asc, isnan, count, sort_array \n",
    "from pyspark.sql.functions import split, rank, concat,lit, stddev, max, min\n",
    "from pyspark.sql.types import StringType, IntegerType, FloatType\n",
    "\n",
    "from pyspark.ml import Pipeline\n",
    "from pyspark.ml.feature import Normalizer, StandardScaler, VectorAssembler\n",
    "from pyspark.ml.tuning import CrossValidator, ParamGridBuilder\n",
    "from pyspark.ml.classification import LogisticRegression, GBTClassifier, LinearSVC, RandomForestClassifier, DecisionTreeClassifier\n",
    "from pyspark.ml.evaluation import MulticlassClassificationEvaluator"
   ]
  },
  {
   "cell_type": "code",
   "execution_count": 2,
   "metadata": {},
   "outputs": [],
   "source": [
    "# create a Spark session\n",
    "spark = SparkSession\\\n",
    "        .builder\\\n",
    "        .appName(\"Sparkify\")\\\n",
    "        .getOrCreate()\n",
    "\n",
    "#spark.conf.set(\"spark.sql.shuffle.partitions\", 4)"
   ]
  },
  {
   "cell_type": "markdown",
   "metadata": {},
   "source": [
    "# 3. Load and Clean Dataset\n",
    "In this workspace, the mini-dataset file is `mini_sparkify_event_data.json`. Load and clean the dataset, checking for invalid or missing data - for example, records without userids or sessionids. \n",
    "\n",
    "## 3.1 Loading data"
   ]
  },
  {
   "cell_type": "code",
   "execution_count": 3,
   "metadata": {},
   "outputs": [],
   "source": [
    "#Load data\n",
    "path = 'mini_sparkify_event_data.json'\n",
    "df = spark.read.json(path)"
   ]
  },
  {
   "cell_type": "markdown",
   "metadata": {},
   "source": [
    "## 3.2 Exploring data"
   ]
  },
  {
   "cell_type": "code",
   "execution_count": 4,
   "metadata": {},
   "outputs": [
    {
     "data": {
      "text/plain": [
       "Row(artist='Martha Tilston', auth='Logged In', firstName='Colin', gender='M', itemInSession=50, lastName='Freeman', length=277.89016, level='paid', location='Bakersfield, CA', method='PUT', page='NextSong', registration=1538173362000, sessionId=29, song='Rockpools', status=200, ts=1538352117000, userAgent='Mozilla/5.0 (Windows NT 6.1; WOW64; rv:31.0) Gecko/20100101 Firefox/31.0', userId='30')"
      ]
     },
     "execution_count": 4,
     "metadata": {},
     "output_type": "execute_result"
    }
   ],
   "source": [
    "df.head()"
   ]
  },
  {
   "cell_type": "code",
   "execution_count": 5,
   "metadata": {},
   "outputs": [
    {
     "name": "stdout",
     "output_type": "stream",
     "text": [
      "-RECORD 0-----------------------------\n",
      " artist        | Martha Tilston       \n",
      " auth          | Logged In            \n",
      " firstName     | Colin                \n",
      " gender        | M                    \n",
      " itemInSession | 50                   \n",
      " lastName      | Freeman              \n",
      " length        | 277.89016            \n",
      " level         | paid                 \n",
      " location      | Bakersfield, CA      \n",
      " method        | PUT                  \n",
      " page          | NextSong             \n",
      " registration  | 1538173362000        \n",
      " sessionId     | 29                   \n",
      " song          | Rockpools            \n",
      " status        | 200                  \n",
      " ts            | 1538352117000        \n",
      " userAgent     | Mozilla/5.0 (Wind... \n",
      " userId        | 30                   \n",
      "-RECORD 1-----------------------------\n",
      " artist        | Five Iron Frenzy     \n",
      " auth          | Logged In            \n",
      " firstName     | Micah                \n",
      " gender        | M                    \n",
      " itemInSession | 79                   \n",
      " lastName      | Long                 \n",
      " length        | 236.09424            \n",
      " level         | free                 \n",
      " location      | Boston-Cambridge-... \n",
      " method        | PUT                  \n",
      " page          | NextSong             \n",
      " registration  | 1538331630000        \n",
      " sessionId     | 8                    \n",
      " song          | Canada               \n",
      " status        | 200                  \n",
      " ts            | 1538352180000        \n",
      " userAgent     | \"Mozilla/5.0 (Win... \n",
      " userId        | 9                    \n",
      "only showing top 2 rows\n",
      "\n"
     ]
    }
   ],
   "source": [
    "# Show top two rows of df dataframe\n",
    "df.show(n=2,vertical = True)"
   ]
  },
  {
   "cell_type": "code",
   "execution_count": 6,
   "metadata": {
    "scrolled": false
   },
   "outputs": [
    {
     "name": "stdout",
     "output_type": "stream",
     "text": [
      "root\n",
      " |-- artist: string (nullable = true)\n",
      " |-- auth: string (nullable = true)\n",
      " |-- firstName: string (nullable = true)\n",
      " |-- gender: string (nullable = true)\n",
      " |-- itemInSession: long (nullable = true)\n",
      " |-- lastName: string (nullable = true)\n",
      " |-- length: double (nullable = true)\n",
      " |-- level: string (nullable = true)\n",
      " |-- location: string (nullable = true)\n",
      " |-- method: string (nullable = true)\n",
      " |-- page: string (nullable = true)\n",
      " |-- registration: long (nullable = true)\n",
      " |-- sessionId: long (nullable = true)\n",
      " |-- song: string (nullable = true)\n",
      " |-- status: long (nullable = true)\n",
      " |-- ts: long (nullable = true)\n",
      " |-- userAgent: string (nullable = true)\n",
      " |-- userId: string (nullable = true)\n",
      "\n"
     ]
    }
   ],
   "source": [
    "# Print schema\n",
    "df.printSchema()"
   ]
  },
  {
   "cell_type": "code",
   "execution_count": 7,
   "metadata": {},
   "outputs": [
    {
     "data": {
      "text/plain": [
       "286500"
      ]
     },
     "execution_count": 7,
     "metadata": {},
     "output_type": "execute_result"
    }
   ],
   "source": [
    "# Total number of rows\n",
    "df.count()"
   ]
  },
  {
   "cell_type": "code",
   "execution_count": 8,
   "metadata": {},
   "outputs": [
    {
     "data": {
      "text/plain": [
       "18"
      ]
     },
     "execution_count": 8,
     "metadata": {},
     "output_type": "execute_result"
    }
   ],
   "source": [
    "# Total number of columns\n",
    "len(df.columns)"
   ]
  },
  {
   "cell_type": "code",
   "execution_count": 9,
   "metadata": {},
   "outputs": [
    {
     "name": "stdout",
     "output_type": "stream",
     "text": [
      "Number of distinct artists: 17656\n",
      "+--------------------+\n",
      "|              artist|\n",
      "+--------------------+\n",
      "|      The Black Keys|\n",
      "|         Silverstein|\n",
      "|           Kate Nash|\n",
      "|        Yann Tiersen|\n",
      "|    Jane's Addiction|\n",
      "|          Tim Hughes|\n",
      "|          Carl Craig|\n",
      "|Dashboard Confess...|\n",
      "|Yonder Mountain S...|\n",
      "|           Los Lobos|\n",
      "|Pete Rock & C.L. ...|\n",
      "|        Ziggy Marley|\n",
      "|      Jarabe De Palo|\n",
      "|               Rufio|\n",
      "|WC And The Maad C...|\n",
      "|      Jorge Gonzalez|\n",
      "|                Silk|\n",
      "|  The Watts Prophets|\n",
      "|            La Shica|\n",
      "|        Generation X|\n",
      "+--------------------+\n",
      "only showing top 20 rows\n",
      "\n"
     ]
    }
   ],
   "source": [
    "# Print total number of distinct artists\n",
    "print('Number of distinct artists:', df.select(\"artist\").distinct().count())\n",
    "\n",
    "# Show distinct \"artists\"\n",
    "df.select(\"artist\").distinct().show()"
   ]
  },
  {
   "cell_type": "code",
   "execution_count": 10,
   "metadata": {
    "scrolled": true
   },
   "outputs": [
    {
     "name": "stdout",
     "output_type": "stream",
     "text": [
      "Number of distinct songs: 58481\n",
      "+--------------------+\n",
      "|                song|\n",
      "+--------------------+\n",
      "|Never Gonna Be Al...|\n",
      "|         TULENLIEKKI|\n",
      "|      Underwaterboys|\n",
      "|Saor (Free)/News ...|\n",
      "|               New E|\n",
      "|The Geeks Were Right|\n",
      "|              Heaven|\n",
      "|      Call Me Manana|\n",
      "|             Push It|\n",
      "|Cool Monsoon (Wea...|\n",
      "|The Fun Lovin' Cr...|\n",
      "|Turn Your Lights ...|\n",
      "|          Growing Up|\n",
      "|          Positivity|\n",
      "|         Miracle Man|\n",
      "|        I'm The Drug|\n",
      "|I've Just Seen A ...|\n",
      "|            Anna May|\n",
      "|All The Things Sh...|\n",
      "|    Blue Suede Shoes|\n",
      "+--------------------+\n",
      "only showing top 20 rows\n",
      "\n"
     ]
    }
   ],
   "source": [
    "# Print total number of distinct songs\n",
    "print('Number of distinct songs:', df.select(\"song\").distinct().count())\n",
    "\n",
    "# Show distinct \"songs\"\n",
    "df.select(\"song\").distinct().show()"
   ]
  },
  {
   "cell_type": "code",
   "execution_count": 11,
   "metadata": {},
   "outputs": [
    {
     "name": "stdout",
     "output_type": "stream",
     "text": [
      "+--------------------+-----+\n",
      "|                song|count|\n",
      "+--------------------+-----+\n",
      "|                null|58392|\n",
      "|      You're The One| 1153|\n",
      "|                Undo| 1026|\n",
      "|             Revelry|  854|\n",
      "|       Sehr kosmisch|  728|\n",
      "|Horn Concerto No....|  641|\n",
      "|Dog Days Are Over...|  574|\n",
      "|             Secrets|  466|\n",
      "|        Use Somebody|  459|\n",
      "|              Canada|  435|\n",
      "|             Invalid|  424|\n",
      "|    Ain't Misbehavin|  409|\n",
      "|       ReprÃÂ©sente|  393|\n",
      "|SinceritÃÂ© Et J...|  384|\n",
      "|Catch You Baby (S...|  373|\n",
      "|              Yellow|  343|\n",
      "|    Somebody To Love|  343|\n",
      "|    Hey_ Soul Sister|  334|\n",
      "|            The Gift|  327|\n",
      "|           Fireflies|  312|\n",
      "+--------------------+-----+\n",
      "only showing top 20 rows\n",
      "\n"
     ]
    }
   ],
   "source": [
    "# Show top 20 most played songs\n",
    "df.select(['ts','song']).groupby('song').count().sort('count', ascending = False).show()"
   ]
  },
  {
   "cell_type": "code",
   "execution_count": 12,
   "metadata": {},
   "outputs": [
    {
     "data": {
      "image/png": "[encoded data removed]",
      "text/plain": [
       "<matplotlib.figure.Figure at 0x7f54cf527400>"
      ]
     },
     "metadata": {
      "needs_background": "light"
     },
     "output_type": "display_data"
    }
   ],
   "source": [
    "#Plot song 'length' distribution in seconds\n",
    "sns.distplot(df.select('length').toPandas().dropna());"
   ]
  },
  {
   "cell_type": "code",
   "execution_count": 13,
   "metadata": {},
   "outputs": [
    {
     "name": "stdout",
     "output_type": "stream",
     "text": [
      "Number of distinct pages: 22\n",
      "+--------------------+------+\n",
      "|                page| count|\n",
      "+--------------------+------+\n",
      "|            NextSong|228108|\n",
      "|                Home| 14457|\n",
      "|           Thumbs Up| 12551|\n",
      "|     Add to Playlist|  6526|\n",
      "|          Add Friend|  4277|\n",
      "|         Roll Advert|  3933|\n",
      "|               Login|  3241|\n",
      "|              Logout|  3226|\n",
      "|         Thumbs Down|  2546|\n",
      "|           Downgrade|  2055|\n",
      "|                Help|  1726|\n",
      "|            Settings|  1514|\n",
      "|               About|   924|\n",
      "|             Upgrade|   499|\n",
      "|       Save Settings|   310|\n",
      "|               Error|   258|\n",
      "|      Submit Upgrade|   159|\n",
      "|    Submit Downgrade|    63|\n",
      "|              Cancel|    52|\n",
      "|Cancellation Conf...|    52|\n",
      "+--------------------+------+\n",
      "only showing top 20 rows\n",
      "\n"
     ]
    }
   ],
   "source": [
    "# Print total number of distinct pages\n",
    "print('Number of distinct pages:', df.select(\"page\").distinct().count())\n",
    "\n",
    "# Count number of user per distinct \"pages\" - Most seen pages by users\n",
    "df.select([\"userId\",\"page\"]).groupby(\"page\").count().sort(\"count\", ascending = False).show()"
   ]
  },
  {
   "cell_type": "markdown",
   "metadata": {},
   "source": [
    "> As we can see in the table above, the \"NextSong\" page has 18 times more pageviews than the homepage itself (second in the table), marking with a large margin the users most frequent activity. Next we will see the remaining activities, removing the influence of the \"NextSong\" page."
   ]
  },
  {
   "cell_type": "code",
   "execution_count": 14,
   "metadata": {},
   "outputs": [
    {
     "data": {
      "image/png": "[encoded data removed]",
      "text/plain": [
       "<matplotlib.figure.Figure at 0x7f54984016a0>"
      ]
     },
     "metadata": {
      "needs_background": "light"
     },
     "output_type": "display_data"
    }
   ],
   "source": [
    "# Plot the most seen pages\n",
    "most_seen_pages = df.select([\"userId\",\"page\"]).groupby(\"page\").count().sort(\"count\", ascending = False).toPandas()\n",
    "\n",
    "plt.figure(figsize=(12, 8))\n",
    "ax = sns.barplot(x=\"count\", y=\"page\", data= most_seen_pages[most_seen_pages.page != 'NextSong'])\n",
    "ax.set_title(\"Most seen pages\")\n",
    "ax.set_xlabel(\"Number of pageviews\")\n",
    "ax.set_ylabel(\"Distinct pages\");"
   ]
  },
  {
   "cell_type": "code",
   "execution_count": 15,
   "metadata": {
    "scrolled": true
   },
   "outputs": [
    {
     "name": "stdout",
     "output_type": "stream",
     "text": [
      "+----------+\n",
      "|      auth|\n",
      "+----------+\n",
      "|Logged Out|\n",
      "| Cancelled|\n",
      "|     Guest|\n",
      "| Logged In|\n",
      "+----------+\n",
      "\n"
     ]
    }
   ],
   "source": [
    "# Show distinct authentication status\n",
    "df.select('auth').distinct().show()"
   ]
  },
  {
   "cell_type": "code",
   "execution_count": 16,
   "metadata": {},
   "outputs": [
    {
     "name": "stdout",
     "output_type": "stream",
     "text": [
      "+----------+-----+\n",
      "|      auth|count|\n",
      "+----------+-----+\n",
      "|Logged Out|    1|\n",
      "| Cancelled|   52|\n",
      "|     Guest|    1|\n",
      "| Logged In|  225|\n",
      "+----------+-----+\n",
      "\n"
     ]
    }
   ],
   "source": [
    "# Count number of user per each authentication status\n",
    "df.select('userId','auth').dropDuplicates().groupby('auth').count().show()"
   ]
  },
  {
   "cell_type": "markdown",
   "metadata": {},
   "source": [
    "> When users are *Logged Out* or are *Guests* do not have a `userId`defined"
   ]
  },
  {
   "cell_type": "code",
   "execution_count": 17,
   "metadata": {},
   "outputs": [
    {
     "name": "stdout",
     "output_type": "stream",
     "text": [
      "+-----+-----+\n",
      "|level|count|\n",
      "+-----+-----+\n",
      "| free|  196|\n",
      "| paid|  166|\n",
      "+-----+-----+\n",
      "\n"
     ]
    }
   ],
   "source": [
    "# Count number of user per distinct \"levels\"\n",
    "df.select([\"userId\",\"level\"]).dropDuplicates().groupby(\"level\").count().show()\n",
    "\n",
    "# although a user can start with a free account and upgrade to a paid account later"
   ]
  },
  {
   "cell_type": "code",
   "execution_count": 18,
   "metadata": {
    "scrolled": true
   },
   "outputs": [
    {
     "name": "stdout",
     "output_type": "stream",
     "text": [
      "+------+\n",
      "|method|\n",
      "+------+\n",
      "|   PUT|\n",
      "|   GET|\n",
      "+------+\n",
      "\n"
     ]
    }
   ],
   "source": [
    "# Show distinct \"methods\"\n",
    "df.select('method').distinct().show()"
   ]
  },
  {
   "cell_type": "code",
   "execution_count": 19,
   "metadata": {},
   "outputs": [
    {
     "name": "stdout",
     "output_type": "stream",
     "text": [
      "+------+-----+\n",
      "|status|count|\n",
      "+------+-----+\n",
      "|   307|  224|\n",
      "|   404|  118|\n",
      "|   200|  226|\n",
      "+------+-----+\n",
      "\n"
     ]
    }
   ],
   "source": [
    "# Show distinct \"status\"\n",
    "df.select([\"userId\",\"status\"]).dropDuplicates().groupby(\"status\").count().show()"
   ]
  },
  {
   "cell_type": "code",
   "execution_count": 20,
   "metadata": {},
   "outputs": [
    {
     "data": {
      "text/plain": [
       "226"
      ]
     },
     "execution_count": 20,
     "metadata": {},
     "output_type": "execute_result"
    }
   ],
   "source": [
    "# Show total number of distinct users\n",
    "df.select('userId').distinct().count()"
   ]
  },
  {
   "cell_type": "code",
   "execution_count": 21,
   "metadata": {},
   "outputs": [
    {
     "data": {
      "text/plain": [
       "2354"
      ]
     },
     "execution_count": 21,
     "metadata": {},
     "output_type": "execute_result"
    }
   ],
   "source": [
    "# Show total number of distinct sessions\n",
    "df.select('sessionId').distinct().count()"
   ]
  },
  {
   "cell_type": "code",
   "execution_count": 22,
   "metadata": {},
   "outputs": [
    {
     "name": "stdout",
     "output_type": "stream",
     "text": [
      "+------+-----+\n",
      "|gender|count|\n",
      "+------+-----+\n",
      "|     F|  104|\n",
      "|  null|    1|\n",
      "|     M|  121|\n",
      "+------+-----+\n",
      "\n"
     ]
    }
   ],
   "source": [
    "# Count number of user by gender\n",
    "df.select([\"userId\",\"gender\"]).dropDuplicates().groupby(\"gender\").count().show()"
   ]
  },
  {
   "cell_type": "code",
   "execution_count": 23,
   "metadata": {},
   "outputs": [],
   "source": [
    "# Create 'state' column from spliting using 'location' information\n",
    "df = df.withColumn('state', split(col('location'),',').getItem(1))"
   ]
  },
  {
   "cell_type": "code",
   "execution_count": 24,
   "metadata": {},
   "outputs": [
    {
     "data": {
      "image/png": "[encoded data removed]",
      "text/plain": [
       "<matplotlib.figure.Figure at 0x7f54982a0128>"
      ]
     },
     "metadata": {
      "needs_background": "light"
     },
     "output_type": "display_data"
    }
   ],
   "source": [
    "# Calculate the number of users in each state\n",
    "users_per_state = df.select(['userId','state']).groupby('state').count().sort('count',ascending=False).toPandas()\n",
    "users_per_state.plot(x = 'state', kind='bar',figsize=(20,5));"
   ]
  },
  {
   "cell_type": "code",
   "execution_count": 25,
   "metadata": {
    "scrolled": true
   },
   "outputs": [
    {
     "name": "stdout",
     "output_type": "stream",
     "text": [
      "-RECORD 0--------------\n",
      " artist        | 58392 \n",
      " auth          | 0     \n",
      " firstName     | 8346  \n",
      " gender        | 8346  \n",
      " itemInSession | 0     \n",
      " lastName      | 8346  \n",
      " length        | 58392 \n",
      " level         | 0     \n",
      " location      | 8346  \n",
      " method        | 0     \n",
      " page          | 0     \n",
      " registration  | 8346  \n",
      " sessionId     | 0     \n",
      " song          | 58392 \n",
      " status        | 0     \n",
      " ts            | 0     \n",
      " userAgent     | 8346  \n",
      " userId        | 0     \n",
      " state         | 8346  \n",
      "\n"
     ]
    }
   ],
   "source": [
    "# Check for missing values\n",
    "df.select([count(when(isnan(c) | col(c).isNull(), c)).alias(c) for c in df.columns]).show(vertical = True)"
   ]
  },
  {
   "cell_type": "markdown",
   "metadata": {},
   "source": [
    "> As we can see, all the attributes that concern the session variables (like *ts, status, sessionId, userId, itemInSession, page*) are complete. So apparently there is no invalid record.\n",
    "\n",
    "> However, there seems to be a pattern in the missing values for the remaining variables.\n",
    "* `artist`, `length` and `song` have 58 392 missing values;\n",
    "* `firstName`, `gender`, `lastName`, `location`, `registration` and `userAgent` have 8 346 missing values."
   ]
  },
  {
   "cell_type": "code",
   "execution_count": 26,
   "metadata": {},
   "outputs": [
    {
     "name": "stdout",
     "output_type": "stream",
     "text": [
      "+---------+------+\n",
      "|sessionId|userId|\n",
      "+---------+------+\n",
      "|       29|    30|\n",
      "|        8|     9|\n",
      "|        8|     9|\n",
      "|       53|    54|\n",
      "|       53|    54|\n",
      "+---------+------+\n",
      "only showing top 5 rows\n",
      "\n"
     ]
    }
   ],
   "source": [
    "# Show 5 sessionIds where \"artist\" is a missing value\n",
    "df.select(['sessionId','userId']).where(df.artist.isNull()).show(n=5)"
   ]
  },
  {
   "cell_type": "code",
   "execution_count": 27,
   "metadata": {},
   "outputs": [
    {
     "data": {
      "text/html": [
       "<div>\n",
       "<style scoped>\n",
       "    .dataframe tbody tr th:only-of-type {\n",
       "        vertical-align: middle;\n",
       "    }\n",
       "\n",
       "    .dataframe tbody tr th {\n",
       "        vertical-align: top;\n",
       "    }\n",
       "\n",
       "    .dataframe thead th {\n",
       "        text-align: right;\n",
       "    }\n",
       "</style>\n",
       "<table border=\"1\" class=\"dataframe\">\n",
       "  <thead>\n",
       "    <tr style=\"text-align: right;\">\n",
       "      <th></th>\n",
       "      <th>artist</th>\n",
       "      <th>auth</th>\n",
       "      <th>firstName</th>\n",
       "      <th>gender</th>\n",
       "      <th>itemInSession</th>\n",
       "      <th>lastName</th>\n",
       "      <th>length</th>\n",
       "      <th>level</th>\n",
       "      <th>location</th>\n",
       "      <th>method</th>\n",
       "      <th>page</th>\n",
       "      <th>registration</th>\n",
       "      <th>sessionId</th>\n",
       "      <th>song</th>\n",
       "      <th>status</th>\n",
       "      <th>ts</th>\n",
       "      <th>userAgent</th>\n",
       "      <th>userId</th>\n",
       "      <th>state</th>\n",
       "    </tr>\n",
       "  </thead>\n",
       "  <tbody>\n",
       "    <tr>\n",
       "      <th>0</th>\n",
       "      <td>Five Iron Frenzy</td>\n",
       "      <td>Logged In</td>\n",
       "      <td>Micah</td>\n",
       "      <td>M</td>\n",
       "      <td>79</td>\n",
       "      <td>Long</td>\n",
       "      <td>236.09424</td>\n",
       "      <td>free</td>\n",
       "      <td>Boston-Cambridge-Newton, MA-NH</td>\n",
       "      <td>PUT</td>\n",
       "      <td>NextSong</td>\n",
       "      <td>1538331630000</td>\n",
       "      <td>8</td>\n",
       "      <td>Canada</td>\n",
       "      <td>200</td>\n",
       "      <td>1538352180000</td>\n",
       "      <td>\"Mozilla/5.0 (Windows NT 6.1; WOW64) AppleWebK...</td>\n",
       "      <td>9</td>\n",
       "      <td>MA-NH</td>\n",
       "    </tr>\n",
       "    <tr>\n",
       "      <th>1</th>\n",
       "      <td>Enigma</td>\n",
       "      <td>Logged In</td>\n",
       "      <td>Micah</td>\n",
       "      <td>M</td>\n",
       "      <td>80</td>\n",
       "      <td>Long</td>\n",
       "      <td>262.71302</td>\n",
       "      <td>free</td>\n",
       "      <td>Boston-Cambridge-Newton, MA-NH</td>\n",
       "      <td>PUT</td>\n",
       "      <td>NextSong</td>\n",
       "      <td>1538331630000</td>\n",
       "      <td>8</td>\n",
       "      <td>Knocking On Forbidden Doors</td>\n",
       "      <td>200</td>\n",
       "      <td>1538352416000</td>\n",
       "      <td>\"Mozilla/5.0 (Windows NT 6.1; WOW64) AppleWebK...</td>\n",
       "      <td>9</td>\n",
       "      <td>MA-NH</td>\n",
       "    </tr>\n",
       "    <tr>\n",
       "      <th>2</th>\n",
       "      <td>The All-American Rejects</td>\n",
       "      <td>Logged In</td>\n",
       "      <td>Micah</td>\n",
       "      <td>M</td>\n",
       "      <td>81</td>\n",
       "      <td>Long</td>\n",
       "      <td>208.29995</td>\n",
       "      <td>free</td>\n",
       "      <td>Boston-Cambridge-Newton, MA-NH</td>\n",
       "      <td>PUT</td>\n",
       "      <td>NextSong</td>\n",
       "      <td>1538331630000</td>\n",
       "      <td>8</td>\n",
       "      <td>Don't Leave Me</td>\n",
       "      <td>200</td>\n",
       "      <td>1538352678000</td>\n",
       "      <td>\"Mozilla/5.0 (Windows NT 6.1; WOW64) AppleWebK...</td>\n",
       "      <td>9</td>\n",
       "      <td>MA-NH</td>\n",
       "    </tr>\n",
       "    <tr>\n",
       "      <th>3</th>\n",
       "      <td>The Velvet Underground / Nico</td>\n",
       "      <td>Logged In</td>\n",
       "      <td>Micah</td>\n",
       "      <td>M</td>\n",
       "      <td>82</td>\n",
       "      <td>Long</td>\n",
       "      <td>260.46649</td>\n",
       "      <td>free</td>\n",
       "      <td>Boston-Cambridge-Newton, MA-NH</td>\n",
       "      <td>PUT</td>\n",
       "      <td>NextSong</td>\n",
       "      <td>1538331630000</td>\n",
       "      <td>8</td>\n",
       "      <td>Run Run Run</td>\n",
       "      <td>200</td>\n",
       "      <td>1538352886000</td>\n",
       "      <td>\"Mozilla/5.0 (Windows NT 6.1; WOW64) AppleWebK...</td>\n",
       "      <td>9</td>\n",
       "      <td>MA-NH</td>\n",
       "    </tr>\n",
       "    <tr>\n",
       "      <th>4</th>\n",
       "      <td>Britt Nicole</td>\n",
       "      <td>Logged In</td>\n",
       "      <td>Micah</td>\n",
       "      <td>M</td>\n",
       "      <td>83</td>\n",
       "      <td>Long</td>\n",
       "      <td>229.87710</td>\n",
       "      <td>free</td>\n",
       "      <td>Boston-Cambridge-Newton, MA-NH</td>\n",
       "      <td>PUT</td>\n",
       "      <td>NextSong</td>\n",
       "      <td>1538331630000</td>\n",
       "      <td>8</td>\n",
       "      <td>Walk On The Water</td>\n",
       "      <td>200</td>\n",
       "      <td>1538353146000</td>\n",
       "      <td>\"Mozilla/5.0 (Windows NT 6.1; WOW64) AppleWebK...</td>\n",
       "      <td>9</td>\n",
       "      <td>MA-NH</td>\n",
       "    </tr>\n",
       "    <tr>\n",
       "      <th>5</th>\n",
       "      <td>None</td>\n",
       "      <td>Logged In</td>\n",
       "      <td>Micah</td>\n",
       "      <td>M</td>\n",
       "      <td>84</td>\n",
       "      <td>Long</td>\n",
       "      <td>NaN</td>\n",
       "      <td>free</td>\n",
       "      <td>Boston-Cambridge-Newton, MA-NH</td>\n",
       "      <td>GET</td>\n",
       "      <td>Roll Advert</td>\n",
       "      <td>1538331630000</td>\n",
       "      <td>8</td>\n",
       "      <td>None</td>\n",
       "      <td>200</td>\n",
       "      <td>1538353150000</td>\n",
       "      <td>\"Mozilla/5.0 (Windows NT 6.1; WOW64) AppleWebK...</td>\n",
       "      <td>9</td>\n",
       "      <td>MA-NH</td>\n",
       "    </tr>\n",
       "    <tr>\n",
       "      <th>6</th>\n",
       "      <td>Tesla</td>\n",
       "      <td>Logged In</td>\n",
       "      <td>Micah</td>\n",
       "      <td>M</td>\n",
       "      <td>85</td>\n",
       "      <td>Long</td>\n",
       "      <td>201.06404</td>\n",
       "      <td>free</td>\n",
       "      <td>Boston-Cambridge-Newton, MA-NH</td>\n",
       "      <td>PUT</td>\n",
       "      <td>NextSong</td>\n",
       "      <td>1538331630000</td>\n",
       "      <td>8</td>\n",
       "      <td>Gettin' Better</td>\n",
       "      <td>200</td>\n",
       "      <td>1538353375000</td>\n",
       "      <td>\"Mozilla/5.0 (Windows NT 6.1; WOW64) AppleWebK...</td>\n",
       "      <td>9</td>\n",
       "      <td>MA-NH</td>\n",
       "    </tr>\n",
       "    <tr>\n",
       "      <th>7</th>\n",
       "      <td>None</td>\n",
       "      <td>Logged In</td>\n",
       "      <td>Micah</td>\n",
       "      <td>M</td>\n",
       "      <td>86</td>\n",
       "      <td>Long</td>\n",
       "      <td>NaN</td>\n",
       "      <td>free</td>\n",
       "      <td>Boston-Cambridge-Newton, MA-NH</td>\n",
       "      <td>PUT</td>\n",
       "      <td>Thumbs Up</td>\n",
       "      <td>1538331630000</td>\n",
       "      <td>8</td>\n",
       "      <td>None</td>\n",
       "      <td>307</td>\n",
       "      <td>1538353376000</td>\n",
       "      <td>\"Mozilla/5.0 (Windows NT 6.1; WOW64) AppleWebK...</td>\n",
       "      <td>9</td>\n",
       "      <td>MA-NH</td>\n",
       "    </tr>\n",
       "    <tr>\n",
       "      <th>8</th>\n",
       "      <td>Florence + The Machine</td>\n",
       "      <td>Logged In</td>\n",
       "      <td>Micah</td>\n",
       "      <td>M</td>\n",
       "      <td>87</td>\n",
       "      <td>Long</td>\n",
       "      <td>168.64608</td>\n",
       "      <td>free</td>\n",
       "      <td>Boston-Cambridge-Newton, MA-NH</td>\n",
       "      <td>PUT</td>\n",
       "      <td>NextSong</td>\n",
       "      <td>1538331630000</td>\n",
       "      <td>8</td>\n",
       "      <td>You've Got The Love</td>\n",
       "      <td>200</td>\n",
       "      <td>1538353576000</td>\n",
       "      <td>\"Mozilla/5.0 (Windows NT 6.1; WOW64) AppleWebK...</td>\n",
       "      <td>9</td>\n",
       "      <td>MA-NH</td>\n",
       "    </tr>\n",
       "    <tr>\n",
       "      <th>9</th>\n",
       "      <td>Ratatat</td>\n",
       "      <td>Logged In</td>\n",
       "      <td>Micah</td>\n",
       "      <td>M</td>\n",
       "      <td>88</td>\n",
       "      <td>Long</td>\n",
       "      <td>229.77261</td>\n",
       "      <td>free</td>\n",
       "      <td>Boston-Cambridge-Newton, MA-NH</td>\n",
       "      <td>PUT</td>\n",
       "      <td>NextSong</td>\n",
       "      <td>1538331630000</td>\n",
       "      <td>8</td>\n",
       "      <td>Swisha</td>\n",
       "      <td>200</td>\n",
       "      <td>1538353744000</td>\n",
       "      <td>\"Mozilla/5.0 (Windows NT 6.1; WOW64) AppleWebK...</td>\n",
       "      <td>9</td>\n",
       "      <td>MA-NH</td>\n",
       "    </tr>\n",
       "    <tr>\n",
       "      <th>10</th>\n",
       "      <td>MÃÂ¶tley CrÃÂ¼e</td>\n",
       "      <td>Logged In</td>\n",
       "      <td>Micah</td>\n",
       "      <td>M</td>\n",
       "      <td>89</td>\n",
       "      <td>Long</td>\n",
       "      <td>231.26159</td>\n",
       "      <td>free</td>\n",
       "      <td>Boston-Cambridge-Newton, MA-NH</td>\n",
       "      <td>PUT</td>\n",
       "      <td>NextSong</td>\n",
       "      <td>1538331630000</td>\n",
       "      <td>8</td>\n",
       "      <td>Sticky Sweet</td>\n",
       "      <td>200</td>\n",
       "      <td>1538353973000</td>\n",
       "      <td>\"Mozilla/5.0 (Windows NT 6.1; WOW64) AppleWebK...</td>\n",
       "      <td>9</td>\n",
       "      <td>MA-NH</td>\n",
       "    </tr>\n",
       "    <tr>\n",
       "      <th>11</th>\n",
       "      <td>Telepopmusik</td>\n",
       "      <td>Logged In</td>\n",
       "      <td>Micah</td>\n",
       "      <td>M</td>\n",
       "      <td>90</td>\n",
       "      <td>Long</td>\n",
       "      <td>241.60608</td>\n",
       "      <td>free</td>\n",
       "      <td>Boston-Cambridge-Newton, MA-NH</td>\n",
       "      <td>PUT</td>\n",
       "      <td>NextSong</td>\n",
       "      <td>1538331630000</td>\n",
       "      <td>8</td>\n",
       "      <td>Smile</td>\n",
       "      <td>200</td>\n",
       "      <td>1538354204000</td>\n",
       "      <td>\"Mozilla/5.0 (Windows NT 6.1; WOW64) AppleWebK...</td>\n",
       "      <td>9</td>\n",
       "      <td>MA-NH</td>\n",
       "    </tr>\n",
       "    <tr>\n",
       "      <th>12</th>\n",
       "      <td>Nine Inch Nails</td>\n",
       "      <td>Logged In</td>\n",
       "      <td>Micah</td>\n",
       "      <td>M</td>\n",
       "      <td>91</td>\n",
       "      <td>Long</td>\n",
       "      <td>373.23710</td>\n",
       "      <td>free</td>\n",
       "      <td>Boston-Cambridge-Newton, MA-NH</td>\n",
       "      <td>PUT</td>\n",
       "      <td>NextSong</td>\n",
       "      <td>1538331630000</td>\n",
       "      <td>8</td>\n",
       "      <td>Closer</td>\n",
       "      <td>200</td>\n",
       "      <td>1538354445000</td>\n",
       "      <td>\"Mozilla/5.0 (Windows NT 6.1; WOW64) AppleWebK...</td>\n",
       "      <td>9</td>\n",
       "      <td>MA-NH</td>\n",
       "    </tr>\n",
       "    <tr>\n",
       "      <th>13</th>\n",
       "      <td>Edgar Oceransky</td>\n",
       "      <td>Logged In</td>\n",
       "      <td>Micah</td>\n",
       "      <td>M</td>\n",
       "      <td>92</td>\n",
       "      <td>Long</td>\n",
       "      <td>309.62893</td>\n",
       "      <td>free</td>\n",
       "      <td>Boston-Cambridge-Newton, MA-NH</td>\n",
       "      <td>PUT</td>\n",
       "      <td>NextSong</td>\n",
       "      <td>1538331630000</td>\n",
       "      <td>8</td>\n",
       "      <td>Demasiado Bueno</td>\n",
       "      <td>200</td>\n",
       "      <td>1538354818000</td>\n",
       "      <td>\"Mozilla/5.0 (Windows NT 6.1; WOW64) AppleWebK...</td>\n",
       "      <td>9</td>\n",
       "      <td>MA-NH</td>\n",
       "    </tr>\n",
       "    <tr>\n",
       "      <th>14</th>\n",
       "      <td>The Acacia Strain</td>\n",
       "      <td>Logged In</td>\n",
       "      <td>Micah</td>\n",
       "      <td>M</td>\n",
       "      <td>93</td>\n",
       "      <td>Long</td>\n",
       "      <td>178.15465</td>\n",
       "      <td>free</td>\n",
       "      <td>Boston-Cambridge-Newton, MA-NH</td>\n",
       "      <td>PUT</td>\n",
       "      <td>NextSong</td>\n",
       "      <td>1538331630000</td>\n",
       "      <td>8</td>\n",
       "      <td>Whoa! Shut It Down</td>\n",
       "      <td>200</td>\n",
       "      <td>1538355127000</td>\n",
       "      <td>\"Mozilla/5.0 (Windows NT 6.1; WOW64) AppleWebK...</td>\n",
       "      <td>9</td>\n",
       "      <td>MA-NH</td>\n",
       "    </tr>\n",
       "    <tr>\n",
       "      <th>15</th>\n",
       "      <td>Scars On Broadway</td>\n",
       "      <td>Logged In</td>\n",
       "      <td>Micah</td>\n",
       "      <td>M</td>\n",
       "      <td>94</td>\n",
       "      <td>Long</td>\n",
       "      <td>196.12689</td>\n",
       "      <td>free</td>\n",
       "      <td>Boston-Cambridge-Newton, MA-NH</td>\n",
       "      <td>PUT</td>\n",
       "      <td>NextSong</td>\n",
       "      <td>1538331630000</td>\n",
       "      <td>8</td>\n",
       "      <td>World Long Gone</td>\n",
       "      <td>200</td>\n",
       "      <td>1538355305000</td>\n",
       "      <td>\"Mozilla/5.0 (Windows NT 6.1; WOW64) AppleWebK...</td>\n",
       "      <td>9</td>\n",
       "      <td>MA-NH</td>\n",
       "    </tr>\n",
       "    <tr>\n",
       "      <th>16</th>\n",
       "      <td>None</td>\n",
       "      <td>Logged In</td>\n",
       "      <td>Micah</td>\n",
       "      <td>M</td>\n",
       "      <td>95</td>\n",
       "      <td>Long</td>\n",
       "      <td>NaN</td>\n",
       "      <td>free</td>\n",
       "      <td>Boston-Cambridge-Newton, MA-NH</td>\n",
       "      <td>PUT</td>\n",
       "      <td>Thumbs Down</td>\n",
       "      <td>1538331630000</td>\n",
       "      <td>8</td>\n",
       "      <td>None</td>\n",
       "      <td>307</td>\n",
       "      <td>1538355306000</td>\n",
       "      <td>\"Mozilla/5.0 (Windows NT 6.1; WOW64) AppleWebK...</td>\n",
       "      <td>9</td>\n",
       "      <td>MA-NH</td>\n",
       "    </tr>\n",
       "    <tr>\n",
       "      <th>17</th>\n",
       "      <td>Lily Allen</td>\n",
       "      <td>Logged In</td>\n",
       "      <td>Micah</td>\n",
       "      <td>M</td>\n",
       "      <td>96</td>\n",
       "      <td>Long</td>\n",
       "      <td>185.83465</td>\n",
       "      <td>free</td>\n",
       "      <td>Boston-Cambridge-Newton, MA-NH</td>\n",
       "      <td>PUT</td>\n",
       "      <td>NextSong</td>\n",
       "      <td>1538331630000</td>\n",
       "      <td>8</td>\n",
       "      <td>22</td>\n",
       "      <td>200</td>\n",
       "      <td>1538355501000</td>\n",
       "      <td>\"Mozilla/5.0 (Windows NT 6.1; WOW64) AppleWebK...</td>\n",
       "      <td>9</td>\n",
       "      <td>MA-NH</td>\n",
       "    </tr>\n",
       "    <tr>\n",
       "      <th>18</th>\n",
       "      <td>None</td>\n",
       "      <td>Logged In</td>\n",
       "      <td>Micah</td>\n",
       "      <td>M</td>\n",
       "      <td>97</td>\n",
       "      <td>Long</td>\n",
       "      <td>NaN</td>\n",
       "      <td>free</td>\n",
       "      <td>Boston-Cambridge-Newton, MA-NH</td>\n",
       "      <td>GET</td>\n",
       "      <td>Home</td>\n",
       "      <td>1538331630000</td>\n",
       "      <td>8</td>\n",
       "      <td>None</td>\n",
       "      <td>200</td>\n",
       "      <td>1538355504000</td>\n",
       "      <td>\"Mozilla/5.0 (Windows NT 6.1; WOW64) AppleWebK...</td>\n",
       "      <td>9</td>\n",
       "      <td>MA-NH</td>\n",
       "    </tr>\n",
       "    <tr>\n",
       "      <th>19</th>\n",
       "      <td>The Last Goodnight</td>\n",
       "      <td>Logged In</td>\n",
       "      <td>Micah</td>\n",
       "      <td>M</td>\n",
       "      <td>98</td>\n",
       "      <td>Long</td>\n",
       "      <td>189.85751</td>\n",
       "      <td>free</td>\n",
       "      <td>Boston-Cambridge-Newton, MA-NH</td>\n",
       "      <td>PUT</td>\n",
       "      <td>NextSong</td>\n",
       "      <td>1538331630000</td>\n",
       "      <td>8</td>\n",
       "      <td>Pictures Of You</td>\n",
       "      <td>200</td>\n",
       "      <td>1538355686000</td>\n",
       "      <td>\"Mozilla/5.0 (Windows NT 6.1; WOW64) AppleWebK...</td>\n",
       "      <td>9</td>\n",
       "      <td>MA-NH</td>\n",
       "    </tr>\n",
       "    <tr>\n",
       "      <th>20</th>\n",
       "      <td>None</td>\n",
       "      <td>Logged In</td>\n",
       "      <td>Micah</td>\n",
       "      <td>M</td>\n",
       "      <td>99</td>\n",
       "      <td>Long</td>\n",
       "      <td>NaN</td>\n",
       "      <td>free</td>\n",
       "      <td>Boston-Cambridge-Newton, MA-NH</td>\n",
       "      <td>PUT</td>\n",
       "      <td>Logout</td>\n",
       "      <td>1538331630000</td>\n",
       "      <td>8</td>\n",
       "      <td>None</td>\n",
       "      <td>307</td>\n",
       "      <td>1538355687000</td>\n",
       "      <td>\"Mozilla/5.0 (Windows NT 6.1; WOW64) AppleWebK...</td>\n",
       "      <td>9</td>\n",
       "      <td>MA-NH</td>\n",
       "    </tr>\n",
       "    <tr>\n",
       "      <th>21</th>\n",
       "      <td>None</td>\n",
       "      <td>Logged In</td>\n",
       "      <td>Micah</td>\n",
       "      <td>M</td>\n",
       "      <td>104</td>\n",
       "      <td>Long</td>\n",
       "      <td>NaN</td>\n",
       "      <td>free</td>\n",
       "      <td>Boston-Cambridge-Newton, MA-NH</td>\n",
       "      <td>GET</td>\n",
       "      <td>Home</td>\n",
       "      <td>1538331630000</td>\n",
       "      <td>8</td>\n",
       "      <td>None</td>\n",
       "      <td>200</td>\n",
       "      <td>1538355855000</td>\n",
       "      <td>\"Mozilla/5.0 (Windows NT 6.1; WOW64) AppleWebK...</td>\n",
       "      <td>9</td>\n",
       "      <td>MA-NH</td>\n",
       "    </tr>\n",
       "    <tr>\n",
       "      <th>22</th>\n",
       "      <td>Tub Ring</td>\n",
       "      <td>Logged In</td>\n",
       "      <td>Micah</td>\n",
       "      <td>M</td>\n",
       "      <td>105</td>\n",
       "      <td>Long</td>\n",
       "      <td>233.69098</td>\n",
       "      <td>free</td>\n",
       "      <td>Boston-Cambridge-Newton, MA-NH</td>\n",
       "      <td>PUT</td>\n",
       "      <td>NextSong</td>\n",
       "      <td>1538331630000</td>\n",
       "      <td>8</td>\n",
       "      <td>Invalid</td>\n",
       "      <td>200</td>\n",
       "      <td>1538355875000</td>\n",
       "      <td>\"Mozilla/5.0 (Windows NT 6.1; WOW64) AppleWebK...</td>\n",
       "      <td>9</td>\n",
       "      <td>MA-NH</td>\n",
       "    </tr>\n",
       "    <tr>\n",
       "      <th>23</th>\n",
       "      <td>Otis Redding</td>\n",
       "      <td>Logged In</td>\n",
       "      <td>Micah</td>\n",
       "      <td>M</td>\n",
       "      <td>106</td>\n",
       "      <td>Long</td>\n",
       "      <td>151.61424</td>\n",
       "      <td>free</td>\n",
       "      <td>Boston-Cambridge-Newton, MA-NH</td>\n",
       "      <td>PUT</td>\n",
       "      <td>NextSong</td>\n",
       "      <td>1538331630000</td>\n",
       "      <td>8</td>\n",
       "      <td>These Arms Of Mine</td>\n",
       "      <td>200</td>\n",
       "      <td>1538356108000</td>\n",
       "      <td>\"Mozilla/5.0 (Windows NT 6.1; WOW64) AppleWebK...</td>\n",
       "      <td>9</td>\n",
       "      <td>MA-NH</td>\n",
       "    </tr>\n",
       "    <tr>\n",
       "      <th>24</th>\n",
       "      <td>Boston</td>\n",
       "      <td>Logged In</td>\n",
       "      <td>Micah</td>\n",
       "      <td>M</td>\n",
       "      <td>107</td>\n",
       "      <td>Long</td>\n",
       "      <td>357.72036</td>\n",
       "      <td>free</td>\n",
       "      <td>Boston-Cambridge-Newton, MA-NH</td>\n",
       "      <td>PUT</td>\n",
       "      <td>NextSong</td>\n",
       "      <td>1538331630000</td>\n",
       "      <td>8</td>\n",
       "      <td>Don't Look Back</td>\n",
       "      <td>200</td>\n",
       "      <td>1538356259000</td>\n",
       "      <td>\"Mozilla/5.0 (Windows NT 6.1; WOW64) AppleWebK...</td>\n",
       "      <td>9</td>\n",
       "      <td>MA-NH</td>\n",
       "    </tr>\n",
       "    <tr>\n",
       "      <th>25</th>\n",
       "      <td>Antonio Vivaldi</td>\n",
       "      <td>Logged In</td>\n",
       "      <td>Micah</td>\n",
       "      <td>M</td>\n",
       "      <td>108</td>\n",
       "      <td>Long</td>\n",
       "      <td>302.83710</td>\n",
       "      <td>free</td>\n",
       "      <td>Boston-Cambridge-Newton, MA-NH</td>\n",
       "      <td>PUT</td>\n",
       "      <td>NextSong</td>\n",
       "      <td>1538331630000</td>\n",
       "      <td>8</td>\n",
       "      <td>L'automne : Presto _Tempo impetuoso d'estate</td>\n",
       "      <td>200</td>\n",
       "      <td>1538356616000</td>\n",
       "      <td>\"Mozilla/5.0 (Windows NT 6.1; WOW64) AppleWebK...</td>\n",
       "      <td>9</td>\n",
       "      <td>MA-NH</td>\n",
       "    </tr>\n",
       "    <tr>\n",
       "      <th>26</th>\n",
       "      <td>Sea Wolf</td>\n",
       "      <td>Logged In</td>\n",
       "      <td>Micah</td>\n",
       "      <td>M</td>\n",
       "      <td>109</td>\n",
       "      <td>Long</td>\n",
       "      <td>241.76281</td>\n",
       "      <td>free</td>\n",
       "      <td>Boston-Cambridge-Newton, MA-NH</td>\n",
       "      <td>PUT</td>\n",
       "      <td>NextSong</td>\n",
       "      <td>1538331630000</td>\n",
       "      <td>8</td>\n",
       "      <td>The Garden You Planted</td>\n",
       "      <td>200</td>\n",
       "      <td>1538356918000</td>\n",
       "      <td>\"Mozilla/5.0 (Windows NT 6.1; WOW64) AppleWebK...</td>\n",
       "      <td>9</td>\n",
       "      <td>MA-NH</td>\n",
       "    </tr>\n",
       "    <tr>\n",
       "      <th>27</th>\n",
       "      <td>Erin McKeown</td>\n",
       "      <td>Logged In</td>\n",
       "      <td>Micah</td>\n",
       "      <td>M</td>\n",
       "      <td>110</td>\n",
       "      <td>Long</td>\n",
       "      <td>242.59873</td>\n",
       "      <td>free</td>\n",
       "      <td>Boston-Cambridge-Newton, MA-NH</td>\n",
       "      <td>PUT</td>\n",
       "      <td>NextSong</td>\n",
       "      <td>1538331630000</td>\n",
       "      <td>8</td>\n",
       "      <td>You Were Right About Everything</td>\n",
       "      <td>200</td>\n",
       "      <td>1538357159000</td>\n",
       "      <td>\"Mozilla/5.0 (Windows NT 6.1; WOW64) AppleWebK...</td>\n",
       "      <td>9</td>\n",
       "      <td>MA-NH</td>\n",
       "    </tr>\n",
       "    <tr>\n",
       "      <th>28</th>\n",
       "      <td>None</td>\n",
       "      <td>Logged In</td>\n",
       "      <td>Micah</td>\n",
       "      <td>M</td>\n",
       "      <td>111</td>\n",
       "      <td>Long</td>\n",
       "      <td>NaN</td>\n",
       "      <td>free</td>\n",
       "      <td>Boston-Cambridge-Newton, MA-NH</td>\n",
       "      <td>PUT</td>\n",
       "      <td>Thumbs Up</td>\n",
       "      <td>1538331630000</td>\n",
       "      <td>8</td>\n",
       "      <td>None</td>\n",
       "      <td>307</td>\n",
       "      <td>1538357160000</td>\n",
       "      <td>\"Mozilla/5.0 (Windows NT 6.1; WOW64) AppleWebK...</td>\n",
       "      <td>9</td>\n",
       "      <td>MA-NH</td>\n",
       "    </tr>\n",
       "    <tr>\n",
       "      <th>29</th>\n",
       "      <td>Taylor Swift</td>\n",
       "      <td>Logged In</td>\n",
       "      <td>Micah</td>\n",
       "      <td>M</td>\n",
       "      <td>112</td>\n",
       "      <td>Long</td>\n",
       "      <td>192.73098</td>\n",
       "      <td>free</td>\n",
       "      <td>Boston-Cambridge-Newton, MA-NH</td>\n",
       "      <td>PUT</td>\n",
       "      <td>NextSong</td>\n",
       "      <td>1538331630000</td>\n",
       "      <td>8</td>\n",
       "      <td>Crazier</td>\n",
       "      <td>200</td>\n",
       "      <td>1538357401000</td>\n",
       "      <td>\"Mozilla/5.0 (Windows NT 6.1; WOW64) AppleWebK...</td>\n",
       "      <td>9</td>\n",
       "      <td>MA-NH</td>\n",
       "    </tr>\n",
       "    <tr>\n",
       "      <th>30</th>\n",
       "      <td>The Killers</td>\n",
       "      <td>Logged In</td>\n",
       "      <td>Micah</td>\n",
       "      <td>M</td>\n",
       "      <td>113</td>\n",
       "      <td>Long</td>\n",
       "      <td>246.80444</td>\n",
       "      <td>free</td>\n",
       "      <td>Boston-Cambridge-Newton, MA-NH</td>\n",
       "      <td>PUT</td>\n",
       "      <td>NextSong</td>\n",
       "      <td>1538331630000</td>\n",
       "      <td>8</td>\n",
       "      <td>Read My Mind</td>\n",
       "      <td>200</td>\n",
       "      <td>1538357593000</td>\n",
       "      <td>\"Mozilla/5.0 (Windows NT 6.1; WOW64) AppleWebK...</td>\n",
       "      <td>9</td>\n",
       "      <td>MA-NH</td>\n",
       "    </tr>\n",
       "    <tr>\n",
       "      <th>31</th>\n",
       "      <td>Foo Fighters</td>\n",
       "      <td>Logged In</td>\n",
       "      <td>Micah</td>\n",
       "      <td>M</td>\n",
       "      <td>114</td>\n",
       "      <td>Long</td>\n",
       "      <td>235.28444</td>\n",
       "      <td>free</td>\n",
       "      <td>Boston-Cambridge-Newton, MA-NH</td>\n",
       "      <td>PUT</td>\n",
       "      <td>NextSong</td>\n",
       "      <td>1538331630000</td>\n",
       "      <td>8</td>\n",
       "      <td>Learn To Fly</td>\n",
       "      <td>200</td>\n",
       "      <td>1538357839000</td>\n",
       "      <td>\"Mozilla/5.0 (Windows NT 6.1; WOW64) AppleWebK...</td>\n",
       "      <td>9</td>\n",
       "      <td>MA-NH</td>\n",
       "    </tr>\n",
       "    <tr>\n",
       "      <th>32</th>\n",
       "      <td>Owl City</td>\n",
       "      <td>Logged In</td>\n",
       "      <td>Micah</td>\n",
       "      <td>M</td>\n",
       "      <td>115</td>\n",
       "      <td>Long</td>\n",
       "      <td>230.81751</td>\n",
       "      <td>free</td>\n",
       "      <td>Boston-Cambridge-Newton, MA-NH</td>\n",
       "      <td>PUT</td>\n",
       "      <td>NextSong</td>\n",
       "      <td>1538331630000</td>\n",
       "      <td>8</td>\n",
       "      <td>Umbrella Beach</td>\n",
       "      <td>200</td>\n",
       "      <td>1538358074000</td>\n",
       "      <td>\"Mozilla/5.0 (Windows NT 6.1; WOW64) AppleWebK...</td>\n",
       "      <td>9</td>\n",
       "      <td>MA-NH</td>\n",
       "    </tr>\n",
       "    <tr>\n",
       "      <th>33</th>\n",
       "      <td>Moose</td>\n",
       "      <td>Logged In</td>\n",
       "      <td>Micah</td>\n",
       "      <td>M</td>\n",
       "      <td>116</td>\n",
       "      <td>Long</td>\n",
       "      <td>384.23465</td>\n",
       "      <td>free</td>\n",
       "      <td>Boston-Cambridge-Newton, MA-NH</td>\n",
       "      <td>PUT</td>\n",
       "      <td>NextSong</td>\n",
       "      <td>1538331630000</td>\n",
       "      <td>8</td>\n",
       "      <td>This River Will Never Run Dry</td>\n",
       "      <td>200</td>\n",
       "      <td>1538358304000</td>\n",
       "      <td>\"Mozilla/5.0 (Windows NT 6.1; WOW64) AppleWebK...</td>\n",
       "      <td>9</td>\n",
       "      <td>MA-NH</td>\n",
       "    </tr>\n",
       "    <tr>\n",
       "      <th>34</th>\n",
       "      <td>The Devil Wears Prada</td>\n",
       "      <td>Logged In</td>\n",
       "      <td>Micah</td>\n",
       "      <td>M</td>\n",
       "      <td>117</td>\n",
       "      <td>Long</td>\n",
       "      <td>69.69424</td>\n",
       "      <td>free</td>\n",
       "      <td>Boston-Cambridge-Newton, MA-NH</td>\n",
       "      <td>PUT</td>\n",
       "      <td>NextSong</td>\n",
       "      <td>1538331630000</td>\n",
       "      <td>8</td>\n",
       "      <td>The Ascent (LP Version)</td>\n",
       "      <td>200</td>\n",
       "      <td>1538358688000</td>\n",
       "      <td>\"Mozilla/5.0 (Windows NT 6.1; WOW64) AppleWebK...</td>\n",
       "      <td>9</td>\n",
       "      <td>MA-NH</td>\n",
       "    </tr>\n",
       "    <tr>\n",
       "      <th>35</th>\n",
       "      <td>Justin Bieber</td>\n",
       "      <td>Logged In</td>\n",
       "      <td>Micah</td>\n",
       "      <td>M</td>\n",
       "      <td>118</td>\n",
       "      <td>Long</td>\n",
       "      <td>245.73342</td>\n",
       "      <td>free</td>\n",
       "      <td>Boston-Cambridge-Newton, MA-NH</td>\n",
       "      <td>PUT</td>\n",
       "      <td>NextSong</td>\n",
       "      <td>1538331630000</td>\n",
       "      <td>8</td>\n",
       "      <td>Down To Earth</td>\n",
       "      <td>200</td>\n",
       "      <td>1538358757000</td>\n",
       "      <td>\"Mozilla/5.0 (Windows NT 6.1; WOW64) AppleWebK...</td>\n",
       "      <td>9</td>\n",
       "      <td>MA-NH</td>\n",
       "    </tr>\n",
       "    <tr>\n",
       "      <th>36</th>\n",
       "      <td>None</td>\n",
       "      <td>Logged In</td>\n",
       "      <td>Micah</td>\n",
       "      <td>M</td>\n",
       "      <td>119</td>\n",
       "      <td>Long</td>\n",
       "      <td>NaN</td>\n",
       "      <td>free</td>\n",
       "      <td>Boston-Cambridge-Newton, MA-NH</td>\n",
       "      <td>GET</td>\n",
       "      <td>Roll Advert</td>\n",
       "      <td>1538331630000</td>\n",
       "      <td>8</td>\n",
       "      <td>None</td>\n",
       "      <td>200</td>\n",
       "      <td>1538358779000</td>\n",
       "      <td>\"Mozilla/5.0 (Windows NT 6.1; WOW64) AppleWebK...</td>\n",
       "      <td>9</td>\n",
       "      <td>MA-NH</td>\n",
       "    </tr>\n",
       "    <tr>\n",
       "      <th>37</th>\n",
       "      <td>OutKast</td>\n",
       "      <td>Logged In</td>\n",
       "      <td>Micah</td>\n",
       "      <td>M</td>\n",
       "      <td>120</td>\n",
       "      <td>Long</td>\n",
       "      <td>234.29179</td>\n",
       "      <td>free</td>\n",
       "      <td>Boston-Cambridge-Newton, MA-NH</td>\n",
       "      <td>PUT</td>\n",
       "      <td>NextSong</td>\n",
       "      <td>1538331630000</td>\n",
       "      <td>8</td>\n",
       "      <td>The Way You Move</td>\n",
       "      <td>200</td>\n",
       "      <td>1538359002000</td>\n",
       "      <td>\"Mozilla/5.0 (Windows NT 6.1; WOW64) AppleWebK...</td>\n",
       "      <td>9</td>\n",
       "      <td>MA-NH</td>\n",
       "    </tr>\n",
       "    <tr>\n",
       "      <th>38</th>\n",
       "      <td>Underworld</td>\n",
       "      <td>Logged In</td>\n",
       "      <td>Micah</td>\n",
       "      <td>M</td>\n",
       "      <td>121</td>\n",
       "      <td>Long</td>\n",
       "      <td>788.92363</td>\n",
       "      <td>free</td>\n",
       "      <td>Boston-Cambridge-Newton, MA-NH</td>\n",
       "      <td>PUT</td>\n",
       "      <td>NextSong</td>\n",
       "      <td>1538331630000</td>\n",
       "      <td>8</td>\n",
       "      <td>mmm skyscraper...i love you</td>\n",
       "      <td>200</td>\n",
       "      <td>1538359236000</td>\n",
       "      <td>\"Mozilla/5.0 (Windows NT 6.1; WOW64) AppleWebK...</td>\n",
       "      <td>9</td>\n",
       "      <td>MA-NH</td>\n",
       "    </tr>\n",
       "    <tr>\n",
       "      <th>39</th>\n",
       "      <td>None</td>\n",
       "      <td>Logged In</td>\n",
       "      <td>Micah</td>\n",
       "      <td>M</td>\n",
       "      <td>122</td>\n",
       "      <td>Long</td>\n",
       "      <td>NaN</td>\n",
       "      <td>free</td>\n",
       "      <td>Boston-Cambridge-Newton, MA-NH</td>\n",
       "      <td>PUT</td>\n",
       "      <td>Add to Playlist</td>\n",
       "      <td>1538331630000</td>\n",
       "      <td>8</td>\n",
       "      <td>None</td>\n",
       "      <td>200</td>\n",
       "      <td>1538359261000</td>\n",
       "      <td>\"Mozilla/5.0 (Windows NT 6.1; WOW64) AppleWebK...</td>\n",
       "      <td>9</td>\n",
       "      <td>MA-NH</td>\n",
       "    </tr>\n",
       "    <tr>\n",
       "      <th>40</th>\n",
       "      <td>Sick Puppies</td>\n",
       "      <td>Logged In</td>\n",
       "      <td>Micah</td>\n",
       "      <td>M</td>\n",
       "      <td>123</td>\n",
       "      <td>Long</td>\n",
       "      <td>200.75057</td>\n",
       "      <td>free</td>\n",
       "      <td>Boston-Cambridge-Newton, MA-NH</td>\n",
       "      <td>PUT</td>\n",
       "      <td>NextSong</td>\n",
       "      <td>1538331630000</td>\n",
       "      <td>8</td>\n",
       "      <td>Too Many Words</td>\n",
       "      <td>200</td>\n",
       "      <td>1538360024000</td>\n",
       "      <td>\"Mozilla/5.0 (Windows NT 6.1; WOW64) AppleWebK...</td>\n",
       "      <td>9</td>\n",
       "      <td>MA-NH</td>\n",
       "    </tr>\n",
       "    <tr>\n",
       "      <th>41</th>\n",
       "      <td>None</td>\n",
       "      <td>Logged In</td>\n",
       "      <td>Micah</td>\n",
       "      <td>M</td>\n",
       "      <td>124</td>\n",
       "      <td>Long</td>\n",
       "      <td>NaN</td>\n",
       "      <td>free</td>\n",
       "      <td>Boston-Cambridge-Newton, MA-NH</td>\n",
       "      <td>GET</td>\n",
       "      <td>Upgrade</td>\n",
       "      <td>1538331630000</td>\n",
       "      <td>8</td>\n",
       "      <td>None</td>\n",
       "      <td>200</td>\n",
       "      <td>1538360042000</td>\n",
       "      <td>\"Mozilla/5.0 (Windows NT 6.1; WOW64) AppleWebK...</td>\n",
       "      <td>9</td>\n",
       "      <td>MA-NH</td>\n",
       "    </tr>\n",
       "    <tr>\n",
       "      <th>42</th>\n",
       "      <td>None</td>\n",
       "      <td>Logged In</td>\n",
       "      <td>Micah</td>\n",
       "      <td>M</td>\n",
       "      <td>125</td>\n",
       "      <td>Long</td>\n",
       "      <td>NaN</td>\n",
       "      <td>free</td>\n",
       "      <td>Boston-Cambridge-Newton, MA-NH</td>\n",
       "      <td>GET</td>\n",
       "      <td>Upgrade</td>\n",
       "      <td>1538331630000</td>\n",
       "      <td>8</td>\n",
       "      <td>None</td>\n",
       "      <td>200</td>\n",
       "      <td>1538360044000</td>\n",
       "      <td>\"Mozilla/5.0 (Windows NT 6.1; WOW64) AppleWebK...</td>\n",
       "      <td>9</td>\n",
       "      <td>MA-NH</td>\n",
       "    </tr>\n",
       "    <tr>\n",
       "      <th>43</th>\n",
       "      <td>Taylor Swift</td>\n",
       "      <td>Logged In</td>\n",
       "      <td>Micah</td>\n",
       "      <td>M</td>\n",
       "      <td>126</td>\n",
       "      <td>Long</td>\n",
       "      <td>245.36771</td>\n",
       "      <td>free</td>\n",
       "      <td>Boston-Cambridge-Newton, MA-NH</td>\n",
       "      <td>PUT</td>\n",
       "      <td>NextSong</td>\n",
       "      <td>1538331630000</td>\n",
       "      <td>8</td>\n",
       "      <td>The Way I Loved You</td>\n",
       "      <td>200</td>\n",
       "      <td>1538360224000</td>\n",
       "      <td>\"Mozilla/5.0 (Windows NT 6.1; WOW64) AppleWebK...</td>\n",
       "      <td>9</td>\n",
       "      <td>MA-NH</td>\n",
       "    </tr>\n",
       "    <tr>\n",
       "      <th>44</th>\n",
       "      <td>None</td>\n",
       "      <td>Logged In</td>\n",
       "      <td>Micah</td>\n",
       "      <td>M</td>\n",
       "      <td>127</td>\n",
       "      <td>Long</td>\n",
       "      <td>NaN</td>\n",
       "      <td>free</td>\n",
       "      <td>Boston-Cambridge-Newton, MA-NH</td>\n",
       "      <td>GET</td>\n",
       "      <td>Roll Advert</td>\n",
       "      <td>1538331630000</td>\n",
       "      <td>8</td>\n",
       "      <td>None</td>\n",
       "      <td>200</td>\n",
       "      <td>1538360228000</td>\n",
       "      <td>\"Mozilla/5.0 (Windows NT 6.1; WOW64) AppleWebK...</td>\n",
       "      <td>9</td>\n",
       "      <td>MA-NH</td>\n",
       "    </tr>\n",
       "  </tbody>\n",
       "</table>\n",
       "</div>"
      ],
      "text/plain": [
       "                           artist       auth firstName gender  itemInSession  \\\n",
       "0                Five Iron Frenzy  Logged In     Micah      M             79   \n",
       "1                          Enigma  Logged In     Micah      M             80   \n",
       "2        The All-American Rejects  Logged In     Micah      M             81   \n",
       "3   The Velvet Underground / Nico  Logged In     Micah      M             82   \n",
       "4                    Britt Nicole  Logged In     Micah      M             83   \n",
       "5                            None  Logged In     Micah      M             84   \n",
       "6                           Tesla  Logged In     Micah      M             85   \n",
       "7                            None  Logged In     Micah      M             86   \n",
       "8          Florence + The Machine  Logged In     Micah      M             87   \n",
       "9                         Ratatat  Logged In     Micah      M             88   \n",
       "10              MÃÂ¶tley CrÃÂ¼e  Logged In     Micah      M             89   \n",
       "11                   Telepopmusik  Logged In     Micah      M             90   \n",
       "12                Nine Inch Nails  Logged In     Micah      M             91   \n",
       "13                Edgar Oceransky  Logged In     Micah      M             92   \n",
       "14              The Acacia Strain  Logged In     Micah      M             93   \n",
       "15              Scars On Broadway  Logged In     Micah      M             94   \n",
       "16                           None  Logged In     Micah      M             95   \n",
       "17                     Lily Allen  Logged In     Micah      M             96   \n",
       "18                           None  Logged In     Micah      M             97   \n",
       "19             The Last Goodnight  Logged In     Micah      M             98   \n",
       "20                           None  Logged In     Micah      M             99   \n",
       "21                           None  Logged In     Micah      M            104   \n",
       "22                       Tub Ring  Logged In     Micah      M            105   \n",
       "23                   Otis Redding  Logged In     Micah      M            106   \n",
       "24                         Boston  Logged In     Micah      M            107   \n",
       "25                Antonio Vivaldi  Logged In     Micah      M            108   \n",
       "26                       Sea Wolf  Logged In     Micah      M            109   \n",
       "27                   Erin McKeown  Logged In     Micah      M            110   \n",
       "28                           None  Logged In     Micah      M            111   \n",
       "29                   Taylor Swift  Logged In     Micah      M            112   \n",
       "30                    The Killers  Logged In     Micah      M            113   \n",
       "31                   Foo Fighters  Logged In     Micah      M            114   \n",
       "32                       Owl City  Logged In     Micah      M            115   \n",
       "33                          Moose  Logged In     Micah      M            116   \n",
       "34          The Devil Wears Prada  Logged In     Micah      M            117   \n",
       "35                  Justin Bieber  Logged In     Micah      M            118   \n",
       "36                           None  Logged In     Micah      M            119   \n",
       "37                        OutKast  Logged In     Micah      M            120   \n",
       "38                     Underworld  Logged In     Micah      M            121   \n",
       "39                           None  Logged In     Micah      M            122   \n",
       "40                   Sick Puppies  Logged In     Micah      M            123   \n",
       "41                           None  Logged In     Micah      M            124   \n",
       "42                           None  Logged In     Micah      M            125   \n",
       "43                   Taylor Swift  Logged In     Micah      M            126   \n",
       "44                           None  Logged In     Micah      M            127   \n",
       "\n",
       "   lastName     length level                        location method  \\\n",
       "0      Long  236.09424  free  Boston-Cambridge-Newton, MA-NH    PUT   \n",
       "1      Long  262.71302  free  Boston-Cambridge-Newton, MA-NH    PUT   \n",
       "2      Long  208.29995  free  Boston-Cambridge-Newton, MA-NH    PUT   \n",
       "3      Long  260.46649  free  Boston-Cambridge-Newton, MA-NH    PUT   \n",
       "4      Long  229.87710  free  Boston-Cambridge-Newton, MA-NH    PUT   \n",
       "5      Long        NaN  free  Boston-Cambridge-Newton, MA-NH    GET   \n",
       "6      Long  201.06404  free  Boston-Cambridge-Newton, MA-NH    PUT   \n",
       "7      Long        NaN  free  Boston-Cambridge-Newton, MA-NH    PUT   \n",
       "8      Long  168.64608  free  Boston-Cambridge-Newton, MA-NH    PUT   \n",
       "9      Long  229.77261  free  Boston-Cambridge-Newton, MA-NH    PUT   \n",
       "10     Long  231.26159  free  Boston-Cambridge-Newton, MA-NH    PUT   \n",
       "11     Long  241.60608  free  Boston-Cambridge-Newton, MA-NH    PUT   \n",
       "12     Long  373.23710  free  Boston-Cambridge-Newton, MA-NH    PUT   \n",
       "13     Long  309.62893  free  Boston-Cambridge-Newton, MA-NH    PUT   \n",
       "14     Long  178.15465  free  Boston-Cambridge-Newton, MA-NH    PUT   \n",
       "15     Long  196.12689  free  Boston-Cambridge-Newton, MA-NH    PUT   \n",
       "16     Long        NaN  free  Boston-Cambridge-Newton, MA-NH    PUT   \n",
       "17     Long  185.83465  free  Boston-Cambridge-Newton, MA-NH    PUT   \n",
       "18     Long        NaN  free  Boston-Cambridge-Newton, MA-NH    GET   \n",
       "19     Long  189.85751  free  Boston-Cambridge-Newton, MA-NH    PUT   \n",
       "20     Long        NaN  free  Boston-Cambridge-Newton, MA-NH    PUT   \n",
       "21     Long        NaN  free  Boston-Cambridge-Newton, MA-NH    GET   \n",
       "22     Long  233.69098  free  Boston-Cambridge-Newton, MA-NH    PUT   \n",
       "23     Long  151.61424  free  Boston-Cambridge-Newton, MA-NH    PUT   \n",
       "24     Long  357.72036  free  Boston-Cambridge-Newton, MA-NH    PUT   \n",
       "25     Long  302.83710  free  Boston-Cambridge-Newton, MA-NH    PUT   \n",
       "26     Long  241.76281  free  Boston-Cambridge-Newton, MA-NH    PUT   \n",
       "27     Long  242.59873  free  Boston-Cambridge-Newton, MA-NH    PUT   \n",
       "28     Long        NaN  free  Boston-Cambridge-Newton, MA-NH    PUT   \n",
       "29     Long  192.73098  free  Boston-Cambridge-Newton, MA-NH    PUT   \n",
       "30     Long  246.80444  free  Boston-Cambridge-Newton, MA-NH    PUT   \n",
       "31     Long  235.28444  free  Boston-Cambridge-Newton, MA-NH    PUT   \n",
       "32     Long  230.81751  free  Boston-Cambridge-Newton, MA-NH    PUT   \n",
       "33     Long  384.23465  free  Boston-Cambridge-Newton, MA-NH    PUT   \n",
       "34     Long   69.69424  free  Boston-Cambridge-Newton, MA-NH    PUT   \n",
       "35     Long  245.73342  free  Boston-Cambridge-Newton, MA-NH    PUT   \n",
       "36     Long        NaN  free  Boston-Cambridge-Newton, MA-NH    GET   \n",
       "37     Long  234.29179  free  Boston-Cambridge-Newton, MA-NH    PUT   \n",
       "38     Long  788.92363  free  Boston-Cambridge-Newton, MA-NH    PUT   \n",
       "39     Long        NaN  free  Boston-Cambridge-Newton, MA-NH    PUT   \n",
       "40     Long  200.75057  free  Boston-Cambridge-Newton, MA-NH    PUT   \n",
       "41     Long        NaN  free  Boston-Cambridge-Newton, MA-NH    GET   \n",
       "42     Long        NaN  free  Boston-Cambridge-Newton, MA-NH    GET   \n",
       "43     Long  245.36771  free  Boston-Cambridge-Newton, MA-NH    PUT   \n",
       "44     Long        NaN  free  Boston-Cambridge-Newton, MA-NH    GET   \n",
       "\n",
       "               page   registration  sessionId  \\\n",
       "0          NextSong  1538331630000          8   \n",
       "1          NextSong  1538331630000          8   \n",
       "2          NextSong  1538331630000          8   \n",
       "3          NextSong  1538331630000          8   \n",
       "4          NextSong  1538331630000          8   \n",
       "5       Roll Advert  1538331630000          8   \n",
       "6          NextSong  1538331630000          8   \n",
       "7         Thumbs Up  1538331630000          8   \n",
       "8          NextSong  1538331630000          8   \n",
       "9          NextSong  1538331630000          8   \n",
       "10         NextSong  1538331630000          8   \n",
       "11         NextSong  1538331630000          8   \n",
       "12         NextSong  1538331630000          8   \n",
       "13         NextSong  1538331630000          8   \n",
       "14         NextSong  1538331630000          8   \n",
       "15         NextSong  1538331630000          8   \n",
       "16      Thumbs Down  1538331630000          8   \n",
       "17         NextSong  1538331630000          8   \n",
       "18             Home  1538331630000          8   \n",
       "19         NextSong  1538331630000          8   \n",
       "20           Logout  1538331630000          8   \n",
       "21             Home  1538331630000          8   \n",
       "22         NextSong  1538331630000          8   \n",
       "23         NextSong  1538331630000          8   \n",
       "24         NextSong  1538331630000          8   \n",
       "25         NextSong  1538331630000          8   \n",
       "26         NextSong  1538331630000          8   \n",
       "27         NextSong  1538331630000          8   \n",
       "28        Thumbs Up  1538331630000          8   \n",
       "29         NextSong  1538331630000          8   \n",
       "30         NextSong  1538331630000          8   \n",
       "31         NextSong  1538331630000          8   \n",
       "32         NextSong  1538331630000          8   \n",
       "33         NextSong  1538331630000          8   \n",
       "34         NextSong  1538331630000          8   \n",
       "35         NextSong  1538331630000          8   \n",
       "36      Roll Advert  1538331630000          8   \n",
       "37         NextSong  1538331630000          8   \n",
       "38         NextSong  1538331630000          8   \n",
       "39  Add to Playlist  1538331630000          8   \n",
       "40         NextSong  1538331630000          8   \n",
       "41          Upgrade  1538331630000          8   \n",
       "42          Upgrade  1538331630000          8   \n",
       "43         NextSong  1538331630000          8   \n",
       "44      Roll Advert  1538331630000          8   \n",
       "\n",
       "                                            song  status             ts  \\\n",
       "0                                         Canada     200  1538352180000   \n",
       "1                    Knocking On Forbidden Doors     200  1538352416000   \n",
       "2                                 Don't Leave Me     200  1538352678000   \n",
       "3                                    Run Run Run     200  1538352886000   \n",
       "4                              Walk On The Water     200  1538353146000   \n",
       "5                                           None     200  1538353150000   \n",
       "6                                 Gettin' Better     200  1538353375000   \n",
       "7                                           None     307  1538353376000   \n",
       "8                            You've Got The Love     200  1538353576000   \n",
       "9                                         Swisha     200  1538353744000   \n",
       "10                                  Sticky Sweet     200  1538353973000   \n",
       "11                                         Smile     200  1538354204000   \n",
       "12                                        Closer     200  1538354445000   \n",
       "13                               Demasiado Bueno     200  1538354818000   \n",
       "14                            Whoa! Shut It Down     200  1538355127000   \n",
       "15                               World Long Gone     200  1538355305000   \n",
       "16                                          None     307  1538355306000   \n",
       "17                                            22     200  1538355501000   \n",
       "18                                          None     200  1538355504000   \n",
       "19                               Pictures Of You     200  1538355686000   \n",
       "20                                          None     307  1538355687000   \n",
       "21                                          None     200  1538355855000   \n",
       "22                                       Invalid     200  1538355875000   \n",
       "23                            These Arms Of Mine     200  1538356108000   \n",
       "24                               Don't Look Back     200  1538356259000   \n",
       "25  L'automne : Presto _Tempo impetuoso d'estate     200  1538356616000   \n",
       "26                        The Garden You Planted     200  1538356918000   \n",
       "27               You Were Right About Everything     200  1538357159000   \n",
       "28                                          None     307  1538357160000   \n",
       "29                                       Crazier     200  1538357401000   \n",
       "30                                  Read My Mind     200  1538357593000   \n",
       "31                                  Learn To Fly     200  1538357839000   \n",
       "32                                Umbrella Beach     200  1538358074000   \n",
       "33                 This River Will Never Run Dry     200  1538358304000   \n",
       "34                       The Ascent (LP Version)     200  1538358688000   \n",
       "35                                 Down To Earth     200  1538358757000   \n",
       "36                                          None     200  1538358779000   \n",
       "37                              The Way You Move     200  1538359002000   \n",
       "38                   mmm skyscraper...i love you     200  1538359236000   \n",
       "39                                          None     200  1538359261000   \n",
       "40                                Too Many Words     200  1538360024000   \n",
       "41                                          None     200  1538360042000   \n",
       "42                                          None     200  1538360044000   \n",
       "43                           The Way I Loved You     200  1538360224000   \n",
       "44                                          None     200  1538360228000   \n",
       "\n",
       "                                            userAgent userId   state  \n",
       "0   \"Mozilla/5.0 (Windows NT 6.1; WOW64) AppleWebK...      9   MA-NH  \n",
       "1   \"Mozilla/5.0 (Windows NT 6.1; WOW64) AppleWebK...      9   MA-NH  \n",
       "2   \"Mozilla/5.0 (Windows NT 6.1; WOW64) AppleWebK...      9   MA-NH  \n",
       "3   \"Mozilla/5.0 (Windows NT 6.1; WOW64) AppleWebK...      9   MA-NH  \n",
       "4   \"Mozilla/5.0 (Windows NT 6.1; WOW64) AppleWebK...      9   MA-NH  \n",
       "5   \"Mozilla/5.0 (Windows NT 6.1; WOW64) AppleWebK...      9   MA-NH  \n",
       "6   \"Mozilla/5.0 (Windows NT 6.1; WOW64) AppleWebK...      9   MA-NH  \n",
       "7   \"Mozilla/5.0 (Windows NT 6.1; WOW64) AppleWebK...      9   MA-NH  \n",
       "8   \"Mozilla/5.0 (Windows NT 6.1; WOW64) AppleWebK...      9   MA-NH  \n",
       "9   \"Mozilla/5.0 (Windows NT 6.1; WOW64) AppleWebK...      9   MA-NH  \n",
       "10  \"Mozilla/5.0 (Windows NT 6.1; WOW64) AppleWebK...      9   MA-NH  \n",
       "11  \"Mozilla/5.0 (Windows NT 6.1; WOW64) AppleWebK...      9   MA-NH  \n",
       "12  \"Mozilla/5.0 (Windows NT 6.1; WOW64) AppleWebK...      9   MA-NH  \n",
       "13  \"Mozilla/5.0 (Windows NT 6.1; WOW64) AppleWebK...      9   MA-NH  \n",
       "14  \"Mozilla/5.0 (Windows NT 6.1; WOW64) AppleWebK...      9   MA-NH  \n",
       "15  \"Mozilla/5.0 (Windows NT 6.1; WOW64) AppleWebK...      9   MA-NH  \n",
       "16  \"Mozilla/5.0 (Windows NT 6.1; WOW64) AppleWebK...      9   MA-NH  \n",
       "17  \"Mozilla/5.0 (Windows NT 6.1; WOW64) AppleWebK...      9   MA-NH  \n",
       "18  \"Mozilla/5.0 (Windows NT 6.1; WOW64) AppleWebK...      9   MA-NH  \n",
       "19  \"Mozilla/5.0 (Windows NT 6.1; WOW64) AppleWebK...      9   MA-NH  \n",
       "20  \"Mozilla/5.0 (Windows NT 6.1; WOW64) AppleWebK...      9   MA-NH  \n",
       "21  \"Mozilla/5.0 (Windows NT 6.1; WOW64) AppleWebK...      9   MA-NH  \n",
       "22  \"Mozilla/5.0 (Windows NT 6.1; WOW64) AppleWebK...      9   MA-NH  \n",
       "23  \"Mozilla/5.0 (Windows NT 6.1; WOW64) AppleWebK...      9   MA-NH  \n",
       "24  \"Mozilla/5.0 (Windows NT 6.1; WOW64) AppleWebK...      9   MA-NH  \n",
       "25  \"Mozilla/5.0 (Windows NT 6.1; WOW64) AppleWebK...      9   MA-NH  \n",
       "26  \"Mozilla/5.0 (Windows NT 6.1; WOW64) AppleWebK...      9   MA-NH  \n",
       "27  \"Mozilla/5.0 (Windows NT 6.1; WOW64) AppleWebK...      9   MA-NH  \n",
       "28  \"Mozilla/5.0 (Windows NT 6.1; WOW64) AppleWebK...      9   MA-NH  \n",
       "29  \"Mozilla/5.0 (Windows NT 6.1; WOW64) AppleWebK...      9   MA-NH  \n",
       "30  \"Mozilla/5.0 (Windows NT 6.1; WOW64) AppleWebK...      9   MA-NH  \n",
       "31  \"Mozilla/5.0 (Windows NT 6.1; WOW64) AppleWebK...      9   MA-NH  \n",
       "32  \"Mozilla/5.0 (Windows NT 6.1; WOW64) AppleWebK...      9   MA-NH  \n",
       "33  \"Mozilla/5.0 (Windows NT 6.1; WOW64) AppleWebK...      9   MA-NH  \n",
       "34  \"Mozilla/5.0 (Windows NT 6.1; WOW64) AppleWebK...      9   MA-NH  \n",
       "35  \"Mozilla/5.0 (Windows NT 6.1; WOW64) AppleWebK...      9   MA-NH  \n",
       "36  \"Mozilla/5.0 (Windows NT 6.1; WOW64) AppleWebK...      9   MA-NH  \n",
       "37  \"Mozilla/5.0 (Windows NT 6.1; WOW64) AppleWebK...      9   MA-NH  \n",
       "38  \"Mozilla/5.0 (Windows NT 6.1; WOW64) AppleWebK...      9   MA-NH  \n",
       "39  \"Mozilla/5.0 (Windows NT 6.1; WOW64) AppleWebK...      9   MA-NH  \n",
       "40  \"Mozilla/5.0 (Windows NT 6.1; WOW64) AppleWebK...      9   MA-NH  \n",
       "41  \"Mozilla/5.0 (Windows NT 6.1; WOW64) AppleWebK...      9   MA-NH  \n",
       "42  \"Mozilla/5.0 (Windows NT 6.1; WOW64) AppleWebK...      9   MA-NH  \n",
       "43  \"Mozilla/5.0 (Windows NT 6.1; WOW64) AppleWebK...      9   MA-NH  \n",
       "44  \"Mozilla/5.0 (Windows NT 6.1; WOW64) AppleWebK...      9   MA-NH  "
      ]
     },
     "execution_count": 27,
     "metadata": {},
     "output_type": "execute_result"
    }
   ],
   "source": [
    "# Show all event of sessionId = 8 for userId = 9 (missing artist, length and song example)\n",
    "df.where(df.sessionId == 8).where(df.userId == 9).sort('ts').toPandas()"
   ]
  },
  {
   "cell_type": "markdown",
   "metadata": {},
   "source": [
    "> Records with missing `artist`, `song` and `length` are records that are not related to music events. For instance, it occurs when the `page` is \"Thumbs Up\", \"Thumbs Down\", \"Home\", \"Logout\", \"Roll Advert\", \"Add to Playlist\", \"Upgrade\", and others. It is not an error and should not be removed or filled with some value. \n"
   ]
  },
  {
   "cell_type": "code",
   "execution_count": 28,
   "metadata": {},
   "outputs": [
    {
     "name": "stdout",
     "output_type": "stream",
     "text": [
      "-RECORD 0-------------\n",
      " artist        | 0    \n",
      " auth          | 0    \n",
      " firstName     | 0    \n",
      " gender        | 0    \n",
      " itemInSession | 0    \n",
      " lastName      | 0    \n",
      " length        | 0    \n",
      " level         | 0    \n",
      " location      | 0    \n",
      " method        | 0    \n",
      " page          | 0    \n",
      " registration  | 0    \n",
      " sessionId     | 0    \n",
      " song          | 0    \n",
      " status        | 0    \n",
      " ts            | 0    \n",
      " userAgent     | 0    \n",
      " userId        | 8346 \n",
      " state         | 0    \n",
      "\n"
     ]
    }
   ],
   "source": [
    "#Check for empty values\n",
    "df.select([count(when(col(c)=='', c)).alias(c) for c in df.columns]).show(vertical = True)"
   ]
  },
  {
   "cell_type": "markdown",
   "metadata": {},
   "source": [
    "> The **8 346** events in which `firstName`, `gender`, `lastName`, `location`, `registration` and `userAgent` are null values correspond to scenarios in which:\n",
    "* users did not give permissions to capture data, for instance, by refusing browser cookies\n",
    "* the user is not identified, browsing the site without logging in.\n",
    "\n",
    "> For these same scenarios a `userId` is not generated, appearing as empty as we can see with the image above. These records will be dropped in the steps. "
   ]
  },
  {
   "cell_type": "markdown",
   "metadata": {},
   "source": [
    "## 3.3 Cleaning data"
   ]
  },
  {
   "cell_type": "code",
   "execution_count": 29,
   "metadata": {},
   "outputs": [],
   "source": [
    "# Drop rows with unregistered users\n",
    "df = df.filter(df.userId != \"\")"
   ]
  },
  {
   "cell_type": "code",
   "execution_count": 30,
   "metadata": {
    "scrolled": false
   },
   "outputs": [
    {
     "name": "stdout",
     "output_type": "stream",
     "text": [
      "-RECORD 0--------------\n",
      " artist        | 50046 \n",
      " auth          | 0     \n",
      " firstName     | 0     \n",
      " gender        | 0     \n",
      " itemInSession | 0     \n",
      " lastName      | 0     \n",
      " length        | 50046 \n",
      " level         | 0     \n",
      " location      | 0     \n",
      " method        | 0     \n",
      " page          | 0     \n",
      " registration  | 0     \n",
      " sessionId     | 0     \n",
      " song          | 50046 \n",
      " status        | 0     \n",
      " ts            | 0     \n",
      " userAgent     | 0     \n",
      " userId        | 0     \n",
      " state         | 0     \n",
      "\n"
     ]
    }
   ],
   "source": [
    "# Check again for missing values\n",
    "df.select([count(when(isnan(c) | col(c).isNull(), c)).alias(c) for c in df.columns]).show(vertical = True)"
   ]
  },
  {
   "cell_type": "code",
   "execution_count": 31,
   "metadata": {},
   "outputs": [],
   "source": [
    "# get_date Function\n",
    "get_date = udf(lambda x: datetime.datetime.fromtimestamp(x/1000.0).strftime(\"%Y-%m-%d %H:%M:%S\"))\n",
    "\n",
    "# get_hour Function\n",
    "get_hour = udf(lambda x: datetime.datetime.fromtimestamp(x/1000.0).hour, IntegerType())\n",
    "\n",
    "# get_day Function\n",
    "get_day = udf(lambda x: datetime.datetime.fromtimestamp(x/1000.0).day, IntegerType())\n"
   ]
  },
  {
   "cell_type": "code",
   "execution_count": 32,
   "metadata": {},
   "outputs": [
    {
     "data": {
      "text/plain": [
       "Row(artist='Martha Tilston', auth='Logged In', firstName='Colin', gender='M', itemInSession=50, lastName='Freeman', length=277.89016, level='paid', location='Bakersfield, CA', method='PUT', page='NextSong', registration=1538173362000, sessionId=29, song='Rockpools', status=200, ts=1538352117000, userAgent='Mozilla/5.0 (Windows NT 6.1; WOW64; rv:31.0) Gecko/20100101 Firefox/31.0', userId='30', state=' CA', date='2018-10-01 00:01:57')"
      ]
     },
     "execution_count": 32,
     "metadata": {},
     "output_type": "execute_result"
    }
   ],
   "source": [
    "# Convert timestamps to date\n",
    "df = df.withColumn(\"date\", get_date(df.ts))\n",
    "df.head()"
   ]
  },
  {
   "cell_type": "code",
   "execution_count": 33,
   "metadata": {},
   "outputs": [
    {
     "data": {
      "text/plain": [
       "Row(artist='Martha Tilston', auth='Logged In', firstName='Colin', gender='M', itemInSession=50, lastName='Freeman', length=277.89016, level='paid', location='Bakersfield, CA', method='PUT', page='NextSong', registration=1538173362000, sessionId=29, song='Rockpools', status=200, ts=1538352117000, userAgent='Mozilla/5.0 (Windows NT 6.1; WOW64; rv:31.0) Gecko/20100101 Firefox/31.0', userId='30', state=' CA', date='2018-10-01 00:01:57', hour=0)"
      ]
     },
     "execution_count": 33,
     "metadata": {},
     "output_type": "execute_result"
    }
   ],
   "source": [
    "# Convert timestamps to hour\n",
    "df = df.withColumn(\"hour\", get_hour(df.ts))\n",
    "df.head()"
   ]
  },
  {
   "cell_type": "code",
   "execution_count": 34,
   "metadata": {},
   "outputs": [
    {
     "data": {
      "text/plain": [
       "Row(artist='Martha Tilston', auth='Logged In', firstName='Colin', gender='M', itemInSession=50, lastName='Freeman', length=277.89016, level='paid', location='Bakersfield, CA', method='PUT', page='NextSong', registration=1538173362000, sessionId=29, song='Rockpools', status=200, ts=1538352117000, userAgent='Mozilla/5.0 (Windows NT 6.1; WOW64; rv:31.0) Gecko/20100101 Firefox/31.0', userId='30', state=' CA', date='2018-10-01 00:01:57', hour=0, day=1)"
      ]
     },
     "execution_count": 34,
     "metadata": {},
     "output_type": "execute_result"
    }
   ],
   "source": [
    "# Convert timestamps to day of the month\n",
    "df = df.withColumn(\"day\", get_day(df.ts))\n",
    "df.head()"
   ]
  },
  {
   "cell_type": "code",
   "execution_count": 35,
   "metadata": {
    "scrolled": true
   },
   "outputs": [
    {
     "data": {
      "image/png": "[encoded data removed]",
      "text/plain": [
       "<matplotlib.figure.Figure at 0x7f54980943c8>"
      ]
     },
     "metadata": {
      "needs_background": "light"
     },
     "output_type": "display_data"
    }
   ],
   "source": [
    "# Calculate the number of events per hour\n",
    "events_per_hour = df.select(['userId','hour']).groupby('hour').count().sort('hour').toPandas()\n",
    "events_per_hour.plot(x = 'hour', kind='bar',figsize=(20,5));"
   ]
  },
  {
   "cell_type": "code",
   "execution_count": 36,
   "metadata": {
    "scrolled": false
   },
   "outputs": [],
   "source": [
    "# Convert registration timestamp to date\n",
    "df = df.withColumn(\"registration_date\", get_date(df.registration))\n",
    "\n",
    "# Convert registration timestamp to hour\n",
    "df = df.withColumn(\"registration_hour\", get_hour(df.registration))"
   ]
  },
  {
   "cell_type": "code",
   "execution_count": 37,
   "metadata": {},
   "outputs": [
    {
     "data": {
      "image/png": "[encoded data removed]",
      "text/plain": [
       "<matplotlib.figure.Figure at 0x7f5498037b38>"
      ]
     },
     "metadata": {
      "needs_background": "light"
     },
     "output_type": "display_data"
    }
   ],
   "source": [
    "# Calculate the number of registations per hour\n",
    "registration_per_hour = df.select(['userId','registration_hour']).dropDuplicates().groupby('registration_hour').count().sort('registration_hour').toPandas()\n",
    "registration_per_hour.plot(x = 'registration_hour', kind='bar',figsize=(20,5));"
   ]
  },
  {
   "cell_type": "markdown",
   "metadata": {},
   "source": [
    "# 4. Exploratory Data Analysis\n",
    "When you're working with the full dataset, perform EDA by loading a small subset of the data and doing basic manipulations within Spark. In this workspace, you are already provided a small subset of data you can explore.\n",
    "\n",
    "## 4.1 Define Churn events\n",
    "\n",
    "The concept of churn must be interpreted and defined in the context of each product and business. In the case of the Sparkify service there are several events and behaviors that can be considered churn, or even demonstrate an intention to do so. They are:\n",
    "\n",
    "* **\"Cancellation Confirmation\"** page -  page viewed when canceling the account, which can happen for both paid and free users\n",
    "* **\"Submit Downgrade\"** page - page viewed when downgrading from a paid to a  free subscription. \n",
    "* **Users without visits for more than 6 months** - the frequency of visits is a metric that can also be used to classify users' engagement with the service. However, as the dataset only refers to a couple of months, this approach cannot be tested. \n",
    "\n",
    "Thus, I will create a column `Churn`and another `Downgrade` to use as label for the models. "
   ]
  },
  {
   "cell_type": "markdown",
   "metadata": {},
   "source": [
    "### 4.1.1 Churn as a \"Confirm Cancellaion\" event"
   ]
  },
  {
   "cell_type": "code",
   "execution_count": 38,
   "metadata": {},
   "outputs": [],
   "source": [
    "# Function to identify churn events\n",
    "is_churn_event = udf(lambda x: 1 if x == \"Cancellation Confirmation\" else 0, IntegerType())"
   ]
  },
  {
   "cell_type": "code",
   "execution_count": 39,
   "metadata": {},
   "outputs": [],
   "source": [
    "# Create churn column \n",
    "df = df.withColumn(\"churn\", is_churn_event(\"page\"))"
   ]
  },
  {
   "cell_type": "code",
   "execution_count": 40,
   "metadata": {},
   "outputs": [],
   "source": [
    "# Create a partitionated window by userID\n",
    "windowval = Window.partitionBy(\"userId\")\n",
    "\n",
    "# Sum churn flag over user window\n",
    "df = df.withColumn(\"Fchurn\", sum(\"churn\").over(windowval))"
   ]
  },
  {
   "cell_type": "code",
   "execution_count": 41,
   "metadata": {},
   "outputs": [
    {
     "data": {
      "text/plain": [
       "Row(artist='Sleeping With Sirens', auth='Logged In', firstName='Darianna', gender='F', itemInSession=0, lastName='Carpenter', length=202.97098, level='free', location='Bridgeport-Stamford-Norwalk, CT', method='PUT', page='NextSong', registration=1538016340000, sessionId=31, song='Captain Tyin Knots VS Mr Walkway (No Way)', status=200, ts=1539003534000, userAgent='\"Mozilla/5.0 (iPhone; CPU iPhone OS 7_1_2 like Mac OS X) AppleWebKit/537.51.2 (KHTML, like Gecko) Version/7.0 Mobile/11D257 Safari/9537.53\"', userId='100010', state=' CT', date='2018-10-08 12:58:54', hour=12, day=8, registration_date='2018-09-27 02:45:40', registration_hour=2, churn=0, Fchurn=0)"
      ]
     },
     "execution_count": 41,
     "metadata": {},
     "output_type": "execute_result"
    }
   ],
   "source": [
    "df.head()"
   ]
  },
  {
   "cell_type": "code",
   "execution_count": 42,
   "metadata": {},
   "outputs": [
    {
     "name": "stdout",
     "output_type": "stream",
     "text": [
      "Number of users who have churned: 52\n",
      "Number of users who have not churned: 173\n"
     ]
    }
   ],
   "source": [
    "print('Number of users who have churned: {}'.\\\n",
    "      format(df.filter(df.Fchurn != 0).select('userId').dropDuplicates().count()))\n",
    "print('Number of users who have not churned: {}'.\\\n",
    "      format(df.filter(df.Fchurn == 0).select('userId').dropDuplicates().count()))"
   ]
  },
  {
   "cell_type": "code",
   "execution_count": 43,
   "metadata": {},
   "outputs": [
    {
     "data": {
      "image/png": "[encoded data removed]",
      "text/plain": [
       "<matplotlib.figure.Figure at 0x7f5493f102b0>"
      ]
     },
     "metadata": {
      "needs_background": "light"
     },
     "output_type": "display_data"
    }
   ],
   "source": [
    "churn_count = df.select(['userId','Fchurn']).dropDuplicates().groupby('Fchurn').count().toPandas()\n",
    "\n",
    "# Plot the number of active and churned users\n",
    "plt.figure(figsize=(10, 6))\n",
    "ax = sns.barplot(x=\"Fchurn\", y=\"count\", data=churn_count)\n",
    "ax.set_title(\"Active Users vs Cancelled Users\")\n",
    "ax.set_xlabel(\"Churn (0-false ; 1-true)\")\n",
    "ax.set_ylabel(\"Number of users\");"
   ]
  },
  {
   "cell_type": "markdown",
   "metadata": {},
   "source": [
    "### 4.1.2 Churn as a \"Submit Downgrade\" event"
   ]
  },
  {
   "cell_type": "code",
   "execution_count": 44,
   "metadata": {},
   "outputs": [],
   "source": [
    "# Function to identify downgrade events\n",
    "is_downgrade_event = udf(lambda x: 1 if x == \"Submit Downgrade\" else 0, IntegerType())"
   ]
  },
  {
   "cell_type": "code",
   "execution_count": 45,
   "metadata": {},
   "outputs": [],
   "source": [
    "# Create downgrade column \n",
    "df = df.withColumn(\"downgrade\", is_downgrade_event(\"page\"))"
   ]
  },
  {
   "cell_type": "code",
   "execution_count": 46,
   "metadata": {},
   "outputs": [],
   "source": [
    "# Sum downgrade flag over user window\n",
    "df = df.withColumn(\"Fdowngrade\", sum(\"downgrade\").over(windowval))"
   ]
  },
  {
   "cell_type": "code",
   "execution_count": 47,
   "metadata": {},
   "outputs": [
    {
     "name": "stdout",
     "output_type": "stream",
     "text": [
      "Number of users who have downgraded: 49\n",
      "Number of users who have not downgraded: 176\n",
      "Number of users with paid accounts: 165\n"
     ]
    }
   ],
   "source": [
    "print('Number of users who have downgraded: {}'.\\\n",
    "      format(df.filter(df.Fdowngrade != 0).select('userId').dropDuplicates().count()))\n",
    "print('Number of users who have not downgraded: {}'.\\\n",
    "      format(df.filter(df.Fdowngrade == 0).select('userId').dropDuplicates().count()))\n",
    "print('Number of users with paid accounts: {}'.\\\n",
    "      format(df.select(['userId','level']).filter(df.level == 'paid').dropDuplicates().count()))"
   ]
  },
  {
   "cell_type": "code",
   "execution_count": 48,
   "metadata": {},
   "outputs": [],
   "source": [
    "# Create a partitionated window by userID ordered by descending ts\n",
    "windowDesc = Window.partitionBy(\"userId\").orderBy(col('ts').desc())\n",
    "\n",
    "# Keep only the last record of each user\n",
    "user_last_event = df.withColumn(\"rank\", rank().over(windowDesc)).filter(col('rank') == 1).drop('rank')"
   ]
  },
  {
   "cell_type": "code",
   "execution_count": 49,
   "metadata": {
    "scrolled": true
   },
   "outputs": [
    {
     "name": "stdout",
     "output_type": "stream",
     "text": [
      "+----------+-----+\n",
      "|Fdowngrade|count|\n",
      "+----------+-----+\n",
      "|         0|  176|\n",
      "|         1|   37|\n",
      "|         3|    2|\n",
      "|         2|   10|\n",
      "+----------+-----+\n",
      "\n"
     ]
    }
   ],
   "source": [
    "# Check the number of user who have downgraded, and how many times\n",
    "user_last_event[\"userId\", \"Fdowngrade\"].dropDuplicates().groupby(\"Fdowngrade\").count().show()"
   ]
  },
  {
   "cell_type": "code",
   "execution_count": 50,
   "metadata": {},
   "outputs": [
    {
     "name": "stdout",
     "output_type": "stream",
     "text": [
      "+----------+-----+-----+\n",
      "|Fdowngrade|level|count|\n",
      "+----------+-----+-----+\n",
      "|         0| free|   60|\n",
      "|         0| paid|  116|\n",
      "|         1| paid|   23|\n",
      "|         1| free|   14|\n",
      "|         2| paid|    4|\n",
      "|         2| free|    6|\n",
      "|         3| paid|    2|\n",
      "+----------+-----+-----+\n",
      "\n"
     ]
    }
   ],
   "source": [
    "# Check the final level of user who have downgraded\n",
    "user_last_event[\"userId\", \"Fdowngrade\",\"level\"].dropDuplicates().sort('Fdowngrade').groupby([\"Fdowngrade\",\"level\"]).count().show()"
   ]
  },
  {
   "cell_type": "markdown",
   "metadata": {},
   "source": [
    "> Although there are **49 users who downgraded at least once**, when comparing these numbers with the final \"level\" of those same users, we see that 29 ended up subscribing to the paid service again. Since the upgrade and downgrade of service is very volatile, in which users can pass through the levels several times, and there is only a sample of 20 users who after downgrading maintained their free accounts, **we will not consider this as the main event to measure Churn**"
   ]
  },
  {
   "cell_type": "markdown",
   "metadata": {},
   "source": [
    "## 4.2 Explore Data\n",
    "Once you've defined churn, perform some exploratory data analysis to observe the behavior for users who stayed vs users who churned. You can start by exploring aggregates on these two groups of users, observing how much of a specific action they experienced per a certain time unit or number of songs played."
   ]
  },
  {
   "cell_type": "markdown",
   "metadata": {},
   "source": [
    "### Gender"
   ]
  },
  {
   "cell_type": "code",
   "execution_count": 51,
   "metadata": {},
   "outputs": [
    {
     "data": {
      "text/html": [
       "<div>\n",
       "<style scoped>\n",
       "    .dataframe tbody tr th:only-of-type {\n",
       "        vertical-align: middle;\n",
       "    }\n",
       "\n",
       "    .dataframe tbody tr th {\n",
       "        vertical-align: top;\n",
       "    }\n",
       "\n",
       "    .dataframe thead th {\n",
       "        text-align: right;\n",
       "    }\n",
       "</style>\n",
       "<table border=\"1\" class=\"dataframe\">\n",
       "  <thead>\n",
       "    <tr style=\"text-align: right;\">\n",
       "      <th></th>\n",
       "      <th>Fchurn</th>\n",
       "      <th>gender</th>\n",
       "      <th>count</th>\n",
       "    </tr>\n",
       "  </thead>\n",
       "  <tbody>\n",
       "    <tr>\n",
       "      <th>0</th>\n",
       "      <td>0</td>\n",
       "      <td>F</td>\n",
       "      <td>84</td>\n",
       "    </tr>\n",
       "    <tr>\n",
       "      <th>1</th>\n",
       "      <td>1</td>\n",
       "      <td>M</td>\n",
       "      <td>32</td>\n",
       "    </tr>\n",
       "    <tr>\n",
       "      <th>2</th>\n",
       "      <td>1</td>\n",
       "      <td>F</td>\n",
       "      <td>20</td>\n",
       "    </tr>\n",
       "    <tr>\n",
       "      <th>3</th>\n",
       "      <td>0</td>\n",
       "      <td>M</td>\n",
       "      <td>89</td>\n",
       "    </tr>\n",
       "  </tbody>\n",
       "</table>\n",
       "</div>"
      ],
      "text/plain": [
       "   Fchurn gender  count\n",
       "0       0      F     84\n",
       "1       1      M     32\n",
       "2       1      F     20\n",
       "3       0      M     89"
      ]
     },
     "execution_count": 51,
     "metadata": {},
     "output_type": "execute_result"
    }
   ],
   "source": [
    "# Check distribution by Gender\n",
    "gender_count = df.select([\"userId\", \"gender\",\"Fchurn\"]).dropDuplicates().groupby([\"Fchurn\", \"gender\"]).count().toPandas()\n",
    "gender_count"
   ]
  },
  {
   "cell_type": "code",
   "execution_count": 52,
   "metadata": {
    "scrolled": true
   },
   "outputs": [
    {
     "data": {
      "image/png": "[encoded data removed]",
      "text/plain": [
       "<matplotlib.figure.Figure at 0x7f5493f22780>"
      ]
     },
     "metadata": {
      "needs_background": "light"
     },
     "output_type": "display_data"
    }
   ],
   "source": [
    "# Plot Churn distribution by Gender\n",
    "plt.figure(figsize=(10, 6))\n",
    "ax = sns.barplot(x=\"gender\", y=\"count\", hue=\"Fchurn\", data=gender_count)\n",
    "ax.set_title(\"Churn distribution by Gender\")\n",
    "ax.set_xlabel(\"Gender\")\n",
    "ax.set_ylabel(\"Number of users\");"
   ]
  },
  {
   "cell_type": "markdown",
   "metadata": {},
   "source": [
    "> Obviously, the number of active customers is dominant as they represents 77% of the sample. However, as we can see the proportion of churns is slightly different between genders: **19.2% for Females and 26.4% for Males.**"
   ]
  },
  {
   "cell_type": "markdown",
   "metadata": {},
   "source": [
    "### Level"
   ]
  },
  {
   "cell_type": "code",
   "execution_count": 53,
   "metadata": {},
   "outputs": [
    {
     "data": {
      "text/html": [
       "<div>\n",
       "<style scoped>\n",
       "    .dataframe tbody tr th:only-of-type {\n",
       "        vertical-align: middle;\n",
       "    }\n",
       "\n",
       "    .dataframe tbody tr th {\n",
       "        vertical-align: top;\n",
       "    }\n",
       "\n",
       "    .dataframe thead th {\n",
       "        text-align: right;\n",
       "    }\n",
       "</style>\n",
       "<table border=\"1\" class=\"dataframe\">\n",
       "  <thead>\n",
       "    <tr style=\"text-align: right;\">\n",
       "      <th></th>\n",
       "      <th>Fchurn</th>\n",
       "      <th>level</th>\n",
       "      <th>count</th>\n",
       "    </tr>\n",
       "  </thead>\n",
       "  <tbody>\n",
       "    <tr>\n",
       "      <th>0</th>\n",
       "      <td>1</td>\n",
       "      <td>paid</td>\n",
       "      <td>36</td>\n",
       "    </tr>\n",
       "    <tr>\n",
       "      <th>1</th>\n",
       "      <td>1</td>\n",
       "      <td>free</td>\n",
       "      <td>46</td>\n",
       "    </tr>\n",
       "    <tr>\n",
       "      <th>2</th>\n",
       "      <td>0</td>\n",
       "      <td>free</td>\n",
       "      <td>149</td>\n",
       "    </tr>\n",
       "    <tr>\n",
       "      <th>3</th>\n",
       "      <td>0</td>\n",
       "      <td>paid</td>\n",
       "      <td>129</td>\n",
       "    </tr>\n",
       "  </tbody>\n",
       "</table>\n",
       "</div>"
      ],
      "text/plain": [
       "   Fchurn level  count\n",
       "0       1  paid     36\n",
       "1       1  free     46\n",
       "2       0  free    149\n",
       "3       0  paid    129"
      ]
     },
     "execution_count": 53,
     "metadata": {},
     "output_type": "execute_result"
    }
   ],
   "source": [
    "# Check distribution by Level\n",
    "level_count = df.select([\"userId\", \"level\",\"Fchurn\"]).dropDuplicates().groupby([\"Fchurn\", \"level\"]).count().toPandas()\n",
    "level_count"
   ]
  },
  {
   "cell_type": "code",
   "execution_count": 54,
   "metadata": {
    "scrolled": true
   },
   "outputs": [
    {
     "data": {
      "image/png": "[encoded data removed]",
      "text/plain": [
       "<matplotlib.figure.Figure at 0x7f5493e4fa58>"
      ]
     },
     "metadata": {
      "needs_background": "light"
     },
     "output_type": "display_data"
    }
   ],
   "source": [
    "# Plot Churn distribution by Level\n",
    "plt.figure(figsize=(10, 6))\n",
    "ax = sns.barplot(x=\"level\", y=\"count\", hue=\"Fchurn\", data=level_count)\n",
    "ax.set_title(\"Churn distribution by Level\")\n",
    "ax.set_xlabel(\"Level\")\n",
    "ax.set_ylabel(\"Number of users\");"
   ]
  },
  {
   "cell_type": "markdown",
   "metadata": {},
   "source": [
    "> In the case of the 2 possible levels, the number of churns is similarly distributed between the 2 groups: **21.8% churn for paid customers and 23.6% churn for free customers.**"
   ]
  },
  {
   "cell_type": "markdown",
   "metadata": {},
   "source": [
    "### Location - State"
   ]
  },
  {
   "cell_type": "code",
   "execution_count": 55,
   "metadata": {},
   "outputs": [
    {
     "data": {
      "text/html": [
       "<div>\n",
       "<style scoped>\n",
       "    .dataframe tbody tr th:only-of-type {\n",
       "        vertical-align: middle;\n",
       "    }\n",
       "\n",
       "    .dataframe tbody tr th {\n",
       "        vertical-align: top;\n",
       "    }\n",
       "\n",
       "    .dataframe thead th {\n",
       "        text-align: right;\n",
       "    }\n",
       "</style>\n",
       "<table border=\"1\" class=\"dataframe\">\n",
       "  <thead>\n",
       "    <tr style=\"text-align: right;\">\n",
       "      <th></th>\n",
       "      <th>Fchurn</th>\n",
       "      <th>state</th>\n",
       "      <th>count</th>\n",
       "    </tr>\n",
       "  </thead>\n",
       "  <tbody>\n",
       "    <tr>\n",
       "      <th>0</th>\n",
       "      <td>0</td>\n",
       "      <td>CA</td>\n",
       "      <td>27</td>\n",
       "    </tr>\n",
       "    <tr>\n",
       "      <th>1</th>\n",
       "      <td>0</td>\n",
       "      <td>TX</td>\n",
       "      <td>13</td>\n",
       "    </tr>\n",
       "    <tr>\n",
       "      <th>2</th>\n",
       "      <td>0</td>\n",
       "      <td>FL</td>\n",
       "      <td>11</td>\n",
       "    </tr>\n",
       "    <tr>\n",
       "      <th>3</th>\n",
       "      <td>0</td>\n",
       "      <td>NY-NJ-PA</td>\n",
       "      <td>10</td>\n",
       "    </tr>\n",
       "    <tr>\n",
       "      <th>4</th>\n",
       "      <td>0</td>\n",
       "      <td>CT</td>\n",
       "      <td>7</td>\n",
       "    </tr>\n",
       "    <tr>\n",
       "      <th>5</th>\n",
       "      <td>0</td>\n",
       "      <td>NC-SC</td>\n",
       "      <td>6</td>\n",
       "    </tr>\n",
       "    <tr>\n",
       "      <th>6</th>\n",
       "      <td>1</td>\n",
       "      <td>CA</td>\n",
       "      <td>6</td>\n",
       "    </tr>\n",
       "    <tr>\n",
       "      <th>7</th>\n",
       "      <td>1</td>\n",
       "      <td>NY-NJ-PA</td>\n",
       "      <td>5</td>\n",
       "    </tr>\n",
       "    <tr>\n",
       "      <th>8</th>\n",
       "      <td>0</td>\n",
       "      <td>NC</td>\n",
       "      <td>5</td>\n",
       "    </tr>\n",
       "    <tr>\n",
       "      <th>9</th>\n",
       "      <td>0</td>\n",
       "      <td>MO-IL</td>\n",
       "      <td>5</td>\n",
       "    </tr>\n",
       "    <tr>\n",
       "      <th>10</th>\n",
       "      <td>0</td>\n",
       "      <td>MA-NH</td>\n",
       "      <td>5</td>\n",
       "    </tr>\n",
       "    <tr>\n",
       "      <th>11</th>\n",
       "      <td>0</td>\n",
       "      <td>IL-IN-WI</td>\n",
       "      <td>5</td>\n",
       "    </tr>\n",
       "    <tr>\n",
       "      <th>12</th>\n",
       "      <td>0</td>\n",
       "      <td>AZ</td>\n",
       "      <td>5</td>\n",
       "    </tr>\n",
       "    <tr>\n",
       "      <th>13</th>\n",
       "      <td>0</td>\n",
       "      <td>NY</td>\n",
       "      <td>4</td>\n",
       "    </tr>\n",
       "    <tr>\n",
       "      <th>14</th>\n",
       "      <td>0</td>\n",
       "      <td>GA</td>\n",
       "      <td>4</td>\n",
       "    </tr>\n",
       "    <tr>\n",
       "      <th>15</th>\n",
       "      <td>1</td>\n",
       "      <td>TX</td>\n",
       "      <td>3</td>\n",
       "    </tr>\n",
       "    <tr>\n",
       "      <th>16</th>\n",
       "      <td>0</td>\n",
       "      <td>PA-NJ-DE-MD</td>\n",
       "      <td>3</td>\n",
       "    </tr>\n",
       "    <tr>\n",
       "      <th>17</th>\n",
       "      <td>0</td>\n",
       "      <td>PA</td>\n",
       "      <td>3</td>\n",
       "    </tr>\n",
       "    <tr>\n",
       "      <th>18</th>\n",
       "      <td>0</td>\n",
       "      <td>NV</td>\n",
       "      <td>3</td>\n",
       "    </tr>\n",
       "    <tr>\n",
       "      <th>19</th>\n",
       "      <td>0</td>\n",
       "      <td>MN-WI</td>\n",
       "      <td>3</td>\n",
       "    </tr>\n",
       "    <tr>\n",
       "      <th>20</th>\n",
       "      <td>1</td>\n",
       "      <td>MI</td>\n",
       "      <td>3</td>\n",
       "    </tr>\n",
       "    <tr>\n",
       "      <th>21</th>\n",
       "      <td>0</td>\n",
       "      <td>IL</td>\n",
       "      <td>3</td>\n",
       "    </tr>\n",
       "    <tr>\n",
       "      <th>22</th>\n",
       "      <td>1</td>\n",
       "      <td>FL</td>\n",
       "      <td>3</td>\n",
       "    </tr>\n",
       "    <tr>\n",
       "      <th>23</th>\n",
       "      <td>0</td>\n",
       "      <td>DC-VA-MD-WV</td>\n",
       "      <td>3</td>\n",
       "    </tr>\n",
       "    <tr>\n",
       "      <th>24</th>\n",
       "      <td>1</td>\n",
       "      <td>WA</td>\n",
       "      <td>2</td>\n",
       "    </tr>\n",
       "  </tbody>\n",
       "</table>\n",
       "</div>"
      ],
      "text/plain": [
       "    Fchurn         state  count\n",
       "0        0            CA     27\n",
       "1        0            TX     13\n",
       "2        0            FL     11\n",
       "3        0      NY-NJ-PA     10\n",
       "4        0            CT      7\n",
       "5        0         NC-SC      6\n",
       "6        1            CA      6\n",
       "7        1      NY-NJ-PA      5\n",
       "8        0            NC      5\n",
       "9        0         MO-IL      5\n",
       "10       0         MA-NH      5\n",
       "11       0      IL-IN-WI      5\n",
       "12       0            AZ      5\n",
       "13       0            NY      4\n",
       "14       0            GA      4\n",
       "15       1            TX      3\n",
       "16       0   PA-NJ-DE-MD      3\n",
       "17       0            PA      3\n",
       "18       0            NV      3\n",
       "19       0         MN-WI      3\n",
       "20       1            MI      3\n",
       "21       0            IL      3\n",
       "22       1            FL      3\n",
       "23       0   DC-VA-MD-WV      3\n",
       "24       1            WA      2"
      ]
     },
     "execution_count": 55,
     "metadata": {},
     "output_type": "execute_result"
    }
   ],
   "source": [
    "# Check distribution by Location - state\n",
    "users_per_state = df.select([\"userId\", \"state\",\"Fchurn\"]).dropDuplicates().groupby([\"Fchurn\", \"state\"]).count().sort('count','state', ascending = False).toPandas()\n",
    "users_per_state.head(25)"
   ]
  },
  {
   "cell_type": "code",
   "execution_count": 56,
   "metadata": {
    "scrolled": true
   },
   "outputs": [
    {
     "data": {
      "image/png": "[encoded data removed]",
      "text/plain": [
       "<matplotlib.figure.Figure at 0x7f5493dc7d30>"
      ]
     },
     "metadata": {
      "needs_background": "light"
     },
     "output_type": "display_data"
    }
   ],
   "source": [
    "# Plot Churn distribution by Level\n",
    "plt.figure(figsize=(15, 20))\n",
    "ax = sns.barplot(x=\"count\", y=\"state\", hue=\"Fchurn\", data = users_per_state)\n",
    "ax.set_title(\"Churn distribution by State\")\n",
    "ax.set_xlabel(\"State\")\n",
    "ax.set_ylabel(\"Number of users\");"
   ]
  },
  {
   "cell_type": "markdown",
   "metadata": {},
   "source": [
    "> The churn rate differs between the different states. In the top 4 states with the most users, the churn percentages are:\n",
    "* California (CA) - 18%\n",
    "* Texas (TX) - 19%\n",
    "* Florida (FL) - 21%\n",
    "* New York/New Jersey (NY-NJ-PA) - 33%\n",
    "\n",
    "> According to the bar graph most states have low Churn Rates, like Illinois (IL), and others even zero rates like Connecticut,North and South Carolina, Nevada and Virginia.\n",
    "\n",
    "> A few examples have Churn Rate greater than 50%, they are: Michigan, Ohio, Mississippi and Kentucky"
   ]
  },
  {
   "cell_type": "markdown",
   "metadata": {},
   "source": [
    "### Lenght"
   ]
  },
  {
   "cell_type": "code",
   "execution_count": 57,
   "metadata": {
    "scrolled": true
   },
   "outputs": [
    {
     "name": "stdout",
     "output_type": "stream",
     "text": [
      "+------+------------------+------------------+----------+----------+\n",
      "|Fchurn|       mean_length|     stddev_length|max_length|min_length|\n",
      "+------+------------------+------------------+----------+----------+\n",
      "|     0|249.20913538880816|  98.6258830014688|3024.66567|   0.78322|\n",
      "|     1|248.63279564406218|102.38497717575477|3024.66567|   4.04853|\n",
      "+------+------------------+------------------+----------+----------+\n",
      "\n"
     ]
    }
   ],
   "source": [
    "df.select([\"Fchurn\", \"length\"]).groupby([\"Fchurn\"])\\\n",
    "    .agg(avg(\"length\").alias('mean_length'),\n",
    "         stddev(\"length\").alias(\"stddev_length\"),\n",
    "         max(\"length\").alias(\"max_length\"),\n",
    "         min(\"length\").alias(\"min_length\")).show()"
   ]
  },
  {
   "cell_type": "markdown",
   "metadata": {},
   "source": [
    "> The lenght distribution of the two types of users (active and churned) is quite similar as it presents the average value, the standard deviation and the maximum value very close. The minimum value is the only indicator that is substantially higher for customers who have canceled the service."
   ]
  },
  {
   "cell_type": "markdown",
   "metadata": {},
   "source": [
    "### Pages"
   ]
  },
  {
   "cell_type": "code",
   "execution_count": 58,
   "metadata": {},
   "outputs": [
    {
     "data": {
      "text/html": [
       "<div>\n",
       "<style scoped>\n",
       "    .dataframe tbody tr th:only-of-type {\n",
       "        vertical-align: middle;\n",
       "    }\n",
       "\n",
       "    .dataframe tbody tr th {\n",
       "        vertical-align: top;\n",
       "    }\n",
       "\n",
       "    .dataframe thead th {\n",
       "        text-align: right;\n",
       "    }\n",
       "</style>\n",
       "<table border=\"1\" class=\"dataframe\">\n",
       "  <thead>\n",
       "    <tr style=\"text-align: right;\">\n",
       "      <th></th>\n",
       "      <th>Fchurn</th>\n",
       "      <th>page</th>\n",
       "      <th>count</th>\n",
       "    </tr>\n",
       "  </thead>\n",
       "  <tbody>\n",
       "    <tr>\n",
       "      <th>0</th>\n",
       "      <td>0</td>\n",
       "      <td>NextSong</td>\n",
       "      <td>191714</td>\n",
       "    </tr>\n",
       "    <tr>\n",
       "      <th>1</th>\n",
       "      <td>1</td>\n",
       "      <td>NextSong</td>\n",
       "      <td>36394</td>\n",
       "    </tr>\n",
       "    <tr>\n",
       "      <th>2</th>\n",
       "      <td>0</td>\n",
       "      <td>Thumbs Up</td>\n",
       "      <td>10692</td>\n",
       "    </tr>\n",
       "    <tr>\n",
       "      <th>3</th>\n",
       "      <td>0</td>\n",
       "      <td>Home</td>\n",
       "      <td>8410</td>\n",
       "    </tr>\n",
       "    <tr>\n",
       "      <th>4</th>\n",
       "      <td>0</td>\n",
       "      <td>Add to Playlist</td>\n",
       "      <td>5488</td>\n",
       "    </tr>\n",
       "    <tr>\n",
       "      <th>5</th>\n",
       "      <td>0</td>\n",
       "      <td>Add Friend</td>\n",
       "      <td>3641</td>\n",
       "    </tr>\n",
       "    <tr>\n",
       "      <th>6</th>\n",
       "      <td>0</td>\n",
       "      <td>Roll Advert</td>\n",
       "      <td>2966</td>\n",
       "    </tr>\n",
       "    <tr>\n",
       "      <th>7</th>\n",
       "      <td>0</td>\n",
       "      <td>Logout</td>\n",
       "      <td>2673</td>\n",
       "    </tr>\n",
       "    <tr>\n",
       "      <th>8</th>\n",
       "      <td>0</td>\n",
       "      <td>Thumbs Down</td>\n",
       "      <td>2050</td>\n",
       "    </tr>\n",
       "    <tr>\n",
       "      <th>9</th>\n",
       "      <td>1</td>\n",
       "      <td>Thumbs Up</td>\n",
       "      <td>1859</td>\n",
       "    </tr>\n",
       "    <tr>\n",
       "      <th>10</th>\n",
       "      <td>0</td>\n",
       "      <td>Downgrade</td>\n",
       "      <td>1718</td>\n",
       "    </tr>\n",
       "    <tr>\n",
       "      <th>11</th>\n",
       "      <td>1</td>\n",
       "      <td>Home</td>\n",
       "      <td>1672</td>\n",
       "    </tr>\n",
       "    <tr>\n",
       "      <th>12</th>\n",
       "      <td>0</td>\n",
       "      <td>Settings</td>\n",
       "      <td>1244</td>\n",
       "    </tr>\n",
       "    <tr>\n",
       "      <th>13</th>\n",
       "      <td>0</td>\n",
       "      <td>Help</td>\n",
       "      <td>1215</td>\n",
       "    </tr>\n",
       "    <tr>\n",
       "      <th>14</th>\n",
       "      <td>1</td>\n",
       "      <td>Add to Playlist</td>\n",
       "      <td>1038</td>\n",
       "    </tr>\n",
       "    <tr>\n",
       "      <th>15</th>\n",
       "      <td>1</td>\n",
       "      <td>Roll Advert</td>\n",
       "      <td>967</td>\n",
       "    </tr>\n",
       "    <tr>\n",
       "      <th>16</th>\n",
       "      <td>1</td>\n",
       "      <td>Add Friend</td>\n",
       "      <td>636</td>\n",
       "    </tr>\n",
       "    <tr>\n",
       "      <th>17</th>\n",
       "      <td>1</td>\n",
       "      <td>Logout</td>\n",
       "      <td>553</td>\n",
       "    </tr>\n",
       "    <tr>\n",
       "      <th>18</th>\n",
       "      <td>1</td>\n",
       "      <td>Thumbs Down</td>\n",
       "      <td>496</td>\n",
       "    </tr>\n",
       "    <tr>\n",
       "      <th>19</th>\n",
       "      <td>0</td>\n",
       "      <td>About</td>\n",
       "      <td>439</td>\n",
       "    </tr>\n",
       "    <tr>\n",
       "      <th>20</th>\n",
       "      <td>0</td>\n",
       "      <td>Upgrade</td>\n",
       "      <td>387</td>\n",
       "    </tr>\n",
       "    <tr>\n",
       "      <th>21</th>\n",
       "      <td>1</td>\n",
       "      <td>Downgrade</td>\n",
       "      <td>337</td>\n",
       "    </tr>\n",
       "    <tr>\n",
       "      <th>22</th>\n",
       "      <td>1</td>\n",
       "      <td>Settings</td>\n",
       "      <td>270</td>\n",
       "    </tr>\n",
       "    <tr>\n",
       "      <th>23</th>\n",
       "      <td>0</td>\n",
       "      <td>Save Settings</td>\n",
       "      <td>252</td>\n",
       "    </tr>\n",
       "    <tr>\n",
       "      <th>24</th>\n",
       "      <td>1</td>\n",
       "      <td>Help</td>\n",
       "      <td>239</td>\n",
       "    </tr>\n",
       "    <tr>\n",
       "      <th>25</th>\n",
       "      <td>0</td>\n",
       "      <td>Error</td>\n",
       "      <td>220</td>\n",
       "    </tr>\n",
       "    <tr>\n",
       "      <th>26</th>\n",
       "      <td>0</td>\n",
       "      <td>Submit Upgrade</td>\n",
       "      <td>127</td>\n",
       "    </tr>\n",
       "    <tr>\n",
       "      <th>27</th>\n",
       "      <td>1</td>\n",
       "      <td>Upgrade</td>\n",
       "      <td>112</td>\n",
       "    </tr>\n",
       "    <tr>\n",
       "      <th>28</th>\n",
       "      <td>1</td>\n",
       "      <td>Save Settings</td>\n",
       "      <td>58</td>\n",
       "    </tr>\n",
       "    <tr>\n",
       "      <th>29</th>\n",
       "      <td>1</td>\n",
       "      <td>About</td>\n",
       "      <td>56</td>\n",
       "    </tr>\n",
       "    <tr>\n",
       "      <th>30</th>\n",
       "      <td>0</td>\n",
       "      <td>Submit Downgrade</td>\n",
       "      <td>54</td>\n",
       "    </tr>\n",
       "    <tr>\n",
       "      <th>31</th>\n",
       "      <td>1</td>\n",
       "      <td>Cancel</td>\n",
       "      <td>52</td>\n",
       "    </tr>\n",
       "    <tr>\n",
       "      <th>32</th>\n",
       "      <td>1</td>\n",
       "      <td>Cancellation Confirmation</td>\n",
       "      <td>52</td>\n",
       "    </tr>\n",
       "    <tr>\n",
       "      <th>33</th>\n",
       "      <td>1</td>\n",
       "      <td>Error</td>\n",
       "      <td>32</td>\n",
       "    </tr>\n",
       "    <tr>\n",
       "      <th>34</th>\n",
       "      <td>1</td>\n",
       "      <td>Submit Upgrade</td>\n",
       "      <td>32</td>\n",
       "    </tr>\n",
       "    <tr>\n",
       "      <th>35</th>\n",
       "      <td>1</td>\n",
       "      <td>Submit Downgrade</td>\n",
       "      <td>9</td>\n",
       "    </tr>\n",
       "  </tbody>\n",
       "</table>\n",
       "</div>"
      ],
      "text/plain": [
       "    Fchurn                       page   count\n",
       "0        0                   NextSong  191714\n",
       "1        1                   NextSong   36394\n",
       "2        0                  Thumbs Up   10692\n",
       "3        0                       Home    8410\n",
       "4        0            Add to Playlist    5488\n",
       "5        0                 Add Friend    3641\n",
       "6        0                Roll Advert    2966\n",
       "7        0                     Logout    2673\n",
       "8        0                Thumbs Down    2050\n",
       "9        1                  Thumbs Up    1859\n",
       "10       0                  Downgrade    1718\n",
       "11       1                       Home    1672\n",
       "12       0                   Settings    1244\n",
       "13       0                       Help    1215\n",
       "14       1            Add to Playlist    1038\n",
       "15       1                Roll Advert     967\n",
       "16       1                 Add Friend     636\n",
       "17       1                     Logout     553\n",
       "18       1                Thumbs Down     496\n",
       "19       0                      About     439\n",
       "20       0                    Upgrade     387\n",
       "21       1                  Downgrade     337\n",
       "22       1                   Settings     270\n",
       "23       0              Save Settings     252\n",
       "24       1                       Help     239\n",
       "25       0                      Error     220\n",
       "26       0             Submit Upgrade     127\n",
       "27       1                    Upgrade     112\n",
       "28       1              Save Settings      58\n",
       "29       1                      About      56\n",
       "30       0           Submit Downgrade      54\n",
       "31       1                     Cancel      52\n",
       "32       1  Cancellation Confirmation      52\n",
       "33       1                      Error      32\n",
       "34       1             Submit Upgrade      32\n",
       "35       1           Submit Downgrade       9"
      ]
     },
     "execution_count": 58,
     "metadata": {},
     "output_type": "execute_result"
    }
   ],
   "source": [
    "# Check distribution by Pages\n",
    "pages_count = df.select([\"userId\", \"page\",\"Fchurn\"]).groupby([\"Fchurn\", \"page\"]).count().sort('count', ascending = False).toPandas()\n",
    "pages_count"
   ]
  },
  {
   "cell_type": "code",
   "execution_count": 59,
   "metadata": {},
   "outputs": [
    {
     "data": {
      "image/png": "[encoded data removed]",
      "text/plain": [
       "<matplotlib.figure.Figure at 0x7f5493ad06d8>"
      ]
     },
     "metadata": {
      "needs_background": "light"
     },
     "output_type": "display_data"
    }
   ],
   "source": [
    "# Plot Churn distribution by Page\n",
    "plt.figure(figsize=(10, 6))\n",
    "ax = sns.barplot(x=\"count\", y=\"page\", hue=\"Fchurn\", data=pages_count)\n",
    "ax.set_title(\"Churn distribution by Pages\")\n",
    "ax.set_xlabel(\"Number of useres\")\n",
    "ax.set_ylabel(\"Pages\");"
   ]
  },
  {
   "cell_type": "code",
   "execution_count": 60,
   "metadata": {},
   "outputs": [
    {
     "data": {
      "image/png": "[encoded data removed]",
      "text/plain": [
       "<matplotlib.figure.Figure at 0x7f5493a5e5c0>"
      ]
     },
     "metadata": {
      "needs_background": "light"
     },
     "output_type": "display_data"
    }
   ],
   "source": [
    "# Plot Churn distribution by Page, by removing the \"NextSong\" page \n",
    "plt.figure(figsize=(10, 6))\n",
    "ax = sns.barplot(x=\"count\", y=\"page\", hue=\"Fchurn\", data=pages_count[pages_count['page']!=\"NextSong\"])\n",
    "ax.set_title(\"Churn distribution by Pages\")\n",
    "ax.set_xlabel(\"Number of useres\")\n",
    "ax.set_ylabel(\"Pages\");"
   ]
  },
  {
   "cell_type": "markdown",
   "metadata": {},
   "source": [
    "> Page Views are an indicator of the interactions and activities that users most perform on the platform. Moving on to the \"NextSong\" is clearly the most frequent action for both groups. Then there are the actions of \"Thumbs Up\" and visiting the Homepage, also for both.\n",
    "\n",
    "> Users who cancel/churn do \"Roll Advert\" more often than active users."
   ]
  },
  {
   "cell_type": "markdown",
   "metadata": {},
   "source": [
    "#### Pages : Thumbs Up"
   ]
  },
  {
   "cell_type": "code",
   "execution_count": 61,
   "metadata": {
    "scrolled": true
   },
   "outputs": [
    {
     "data": {
      "image/png": "[encoded data removed]",
      "text/plain": [
       "<matplotlib.figure.Figure at 0x7f54938dff60>"
      ]
     },
     "metadata": {
      "needs_background": "light"
     },
     "output_type": "display_data"
    }
   ],
   "source": [
    "# Compare the number of Thumbs Up activity for active and churned users\n",
    "\n",
    "thumbsup_count = df.filter(df['page'] == 'Thumbs Up').groupby(\"Fchurn\", \"sessionId\").count().toPandas()\n",
    "\n",
    "\n",
    "# Plot Thumbs Up activity per session for both segments\n",
    "\n",
    "plt.figure(figsize=(20, 10))\n",
    "ax = sns.boxplot(x='count', y='Fchurn', orient=\"h\", data = thumbsup_count)\n",
    "ax.set_title(\"Thumbs Up per Session distribuition\")\n",
    "ax.set_xlabel(\"Number of Thumbs Up per Session\")\n",
    "ax.set_ylabel(\"Churn Flag\");"
   ]
  },
  {
   "cell_type": "markdown",
   "metadata": {},
   "source": [
    "> Customers who cancel/churn tend to give less Thumbs Up per session than active customers. This can be concluded because the limit values of all quadrants are lower (mean, median and maximum value)."
   ]
  },
  {
   "cell_type": "markdown",
   "metadata": {},
   "source": [
    "#### Pages : Roll Advert "
   ]
  },
  {
   "cell_type": "code",
   "execution_count": 62,
   "metadata": {},
   "outputs": [
    {
     "data": {
      "image/png": "[encoded data removed]",
      "text/plain": [
       "<matplotlib.figure.Figure at 0x7f5493a3ac18>"
      ]
     },
     "metadata": {
      "needs_background": "light"
     },
     "output_type": "display_data"
    }
   ],
   "source": [
    "# Compare the number of Roll Advert activity for active and churned users\n",
    "\n",
    "rolladvert_count = df.filter(df['page'] == 'Roll Advert').groupby(\"Fchurn\", \"sessionId\").count().toPandas()\n",
    "\n",
    "\n",
    "# Plot Thumbs Up activity per session for both segments\n",
    "\n",
    "plt.figure(figsize=(20, 10))\n",
    "ax = sns.boxplot(x='count', y='Fchurn', orient=\"h\", data = rolladvert_count)\n",
    "ax.set_title(\"Roll Advert per Session distribuition\")\n",
    "ax.set_xlabel(\"Number of Roll Advert per Session\")\n",
    "ax.set_ylabel(\"Churn Flag\");"
   ]
  },
  {
   "cell_type": "markdown",
   "metadata": {},
   "source": [
    "> As we predicted earlier, customers who canceled do a lot more Roll Advert per session than customers who remain active. The mean, median and maximum value are higher."
   ]
  },
  {
   "cell_type": "markdown",
   "metadata": {},
   "source": [
    "### Cancellation Event over time"
   ]
  },
  {
   "cell_type": "code",
   "execution_count": 63,
   "metadata": {
    "scrolled": false
   },
   "outputs": [
    {
     "data": {
      "image/png": "[encoded data removed]",
      "text/plain": [
       "<matplotlib.figure.Figure at 0x7f5493b63080>"
      ]
     },
     "metadata": {
      "needs_background": "light"
     },
     "output_type": "display_data"
    }
   ],
   "source": [
    "# Check the evolution of Cancellation events over time : day of month\n",
    "\n",
    "dayOfMonth_count = df.filter(df['page'] == 'Cancellation Confirmation').groupby(\"day\").count().sort('day').toPandas()\n",
    "\n",
    "\n",
    "# Plot the occurence of Cancelation events over day of month\n",
    "\n",
    "plt.figure(figsize=(20, 7))\n",
    "ax = sns.lineplot(x = \"day\", y = \"count\", data = dayOfMonth_count)\n",
    "ax.legend(labels=[\"Cancellation Confirmation\"])\n",
    "ax.set_title(\"Cancellation by day of month\")\n",
    "ax.set_xlabel(\"Day of month\")\n",
    "ax.set_ylabel(\"Cancellation Confirmation Events\");"
   ]
  },
  {
   "cell_type": "code",
   "execution_count": 67,
   "metadata": {},
   "outputs": [],
   "source": [
    "# Get Weekday Function\n",
    "get_weekday = udf(lambda x: datetime.datetime.fromtimestamp(x / 1000.0).strftime(\"%w\"))\n",
    "\n",
    "# Create Weekday column\n",
    "df = df.withColumn(\"weekday\", get_weekday(df.ts))"
   ]
  },
  {
   "cell_type": "code",
   "execution_count": 68,
   "metadata": {},
   "outputs": [
    {
     "data": {
      "image/png": "[encoded data removed]",
      "text/plain": [
       "<matplotlib.figure.Figure at 0x7f5498113940>"
      ]
     },
     "metadata": {
      "needs_background": "light"
     },
     "output_type": "display_data"
    }
   ],
   "source": [
    "# Check the evolution of Cancellation events over time : day of week\n",
    "\n",
    "dayOfWeek_count = df.filter(df['page'] == 'Cancellation Confirmation').groupby(\"weekday\").count().sort('weekday').toPandas()\n",
    "\n",
    "\n",
    "# Plot the occurence of Cancelation events over day of week\n",
    "\n",
    "plt.figure(figsize=(20, 7))\n",
    "ax = sns.lineplot(x = \"weekday\", y = \"count\", data = dayOfWeek_count)\n",
    "ax.legend(labels=[\"Cancellation Confirmation\"])\n",
    "ax.set_title(\"Cancellation by day of week\")\n",
    "ax.set_xlabel(\"Day of week\")\n",
    "ax.set_ylabel(\"Cancellation Confirmation Events\");"
   ]
  },
  {
   "cell_type": "markdown",
   "metadata": {},
   "source": [
    "# Feature Engineering\n",
    "Once you've familiarized yourself with the data, build out the features you find promising to train your model on. To work with the full dataset, you can follow the following steps.\n",
    "- Write a script to extract the necessary features from the smaller subset of data\n",
    "- Ensure that your script is scalable, using the best practices discussed in Lesson 3\n",
    "- Try your script on the full data set, debugging your script if necessary\n",
    "\n",
    "If you are working in the classroom workspace, you can just extract features based on the small subset of data contained here. Be sure to transfer over this work to the larger dataset when you work on your Spark cluster."
   ]
  },
  {
   "cell_type": "code",
   "execution_count": null,
   "metadata": {},
   "outputs": [],
   "source": []
  },
  {
   "cell_type": "markdown",
   "metadata": {},
   "source": [
    "# Modeling\n",
    "Split the full dataset into train, test, and validation sets. Test out several of the machine learning methods you learned. Evaluate the accuracy of the various models, tuning parameters as necessary. Determine your winning model based on test accuracy and report results on the validation set. Since the churned users are a fairly small subset, I suggest using F1 score as the metric to optimize."
   ]
  },
  {
   "cell_type": "code",
   "execution_count": null,
   "metadata": {},
   "outputs": [],
   "source": []
  },
  {
   "cell_type": "markdown",
   "metadata": {},
   "source": [
    "# Final Steps\n",
    "Clean up your code, adding comments and renaming variables to make the code easier to read and maintain. Refer to the Spark Project Overview page and Data Scientist Capstone Project Rubric to make sure you are including all components of the capstone project and meet all expectations. Remember, this includes thorough documentation in a README file in a Github repository, as well as a web app or blog post."
   ]
  },
  {
   "cell_type": "code",
   "execution_count": null,
   "metadata": {},
   "outputs": [],
   "source": []
  }
 ],
 "metadata": {
  "kernelspec": {
   "display_name": "Python 3",
   "language": "python",
   "name": "python3"
  },
  "language_info": {
   "codemirror_mode": {
    "name": "ipython",
    "version": 3
   },
   "file_extension": ".py",
   "mimetype": "text/x-python",
   "name": "python",
   "nbconvert_exporter": "python",
   "pygments_lexer": "ipython3",
   "version": "3.6.3"
  }
 },
 "nbformat": 4,
 "nbformat_minor": 2
}
